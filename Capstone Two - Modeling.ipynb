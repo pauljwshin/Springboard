{
 "cells": [
  {
   "cell_type": "markdown",
   "id": "f03f1a0f",
   "metadata": {},
   "source": [
    "Capstone Two: Modeling"
   ]
  },
  {
   "cell_type": "code",
   "execution_count": 1,
   "id": "1fcfad1b",
   "metadata": {},
   "outputs": [],
   "source": [
    "import pandas as pd\n",
    "from sklearn.model_selection import train_test_split\n",
    "from sklearn.preprocessing import StandardScaler\n",
    "from sklearn.linear_model import LinearRegression, Ridge\n",
    "from sklearn.ensemble import RandomForestRegressor\n",
    "from sklearn.metrics import mean_squared_error, mean_absolute_error, r2_score\n",
    "from sklearn.model_selection import GridSearchCV\n",
    "import numpy as np\n",
    "\n",
    "# Load the dataset\n",
    "file_path = 'Largest companies in world.csv'\n",
    "df = pd.read_csv(file_path)"
   ]
  },
  {
   "cell_type": "code",
   "execution_count": 2,
   "id": "5466fdee",
   "metadata": {},
   "outputs": [],
   "source": [
    "# Convert financial metrics to numeric\n",
    "def convert_to_numeric(value):\n",
    "    if pd.isnull(value):\n",
    "        return None\n",
    "    try:\n",
    "        return float(value.replace('B', '')) * 1e9\n",
    "    except ValueError:\n",
    "        return None\n",
    "\n",
    "columns_to_convert = ['revenue', 'profits', 'assets', 'marketValue']\n",
    "for column in columns_to_convert:\n",
    "    df[column] = df[column].apply(convert_to_numeric)"
   ]
  },
  {
   "cell_type": "code",
   "execution_count": 3,
   "id": "a562fcc2",
   "metadata": {},
   "outputs": [],
   "source": [
    "\n",
    "\n",
    "# Creating dummy variables for 'country'\n",
    "df = pd.get_dummies(df, columns=['country'], drop_first=True)\n",
    "\n",
    "# Standardizing numeric features, excluding 'marketValue'\n",
    "numeric_columns = ['revenue', 'profits', 'assets']\n",
    "scaler = StandardScaler()\n",
    "df[numeric_columns] = scaler.fit_transform(df[numeric_columns].fillna(0))\n",
    "\n",
    "# Splitting the dataset into training and testing sets\n",
    "X = df.drop(['marketValue', 'rank', 'organizationName'], axis=1)  # Features\n",
    "y = df['marketValue'].fillna(0)  # Target, handling NaNs by replacing with 0\n",
    "X_train, X_test, y_train, y_test = train_test_split(X, y, test_size=0.3, random_state=42)\n",
    "\n"
   ]
  },
  {
   "cell_type": "code",
   "execution_count": 4,
   "id": "031c2401",
   "metadata": {
    "scrolled": true
   },
   "outputs": [
    {
     "name": "stdout",
     "output_type": "stream",
     "text": [
      "Linear Regression R^2: -1.363256410717323e+22\n",
      "Linear Regression MAE: 2.7927199705543596e+20\n",
      "Linear Regression RMSE: 6.931348683182647e+21\n"
     ]
    }
   ],
   "source": [
    "# Initialize the Linear Regression model\n",
    "lr_model = LinearRegression()\n",
    "\n",
    "# Fit the model\n",
    "lr_model.fit(X_train, y_train)\n",
    "\n",
    "# Predict on the testing set\n",
    "y_pred = lr_model.predict(X_test)\n",
    "\n",
    "# Evaluation metrics\n",
    "print(\"Linear Regression R^2:\", r2_score(y_test, y_pred))\n",
    "print(\"Linear Regression MAE:\", mean_absolute_error(y_test, y_pred))\n",
    "print(\"Linear Regression RMSE:\", np.sqrt(mean_squared_error(y_test, y_pred)))\n",
    "\n",
    "# Repeat the process for Ridge Regression and Random Forest Regressor,\n",
    "# including hyperparameter tuning with GridSearchCV if desired.\n"
   ]
  },
  {
   "cell_type": "markdown",
   "id": "9159c905",
   "metadata": {},
   "source": [
    "Linear Regressiong Conlusion\n",
    "\n",
    "R-squared (R²) value is negative: The R² metric indicates the proportion of the variance in the dependent variable that is predictable from the independent variables. It ranges from 0 to 1 for no-fit to perfect fit respectively. A negative R² value suggests that the model fits worse than a horizontal line representing the mean of the dependent variable. This can happen when the predictions are very far off from the actual values or if an incorrect model or methods were used for the analysis.\n",
    "\n",
    "Mean Absolute Error (MAE) is extremely large: The MAE measures the average magnitude of the errors in a set of predictions, without considering their direction. The extremely large MAE indicates that the model’s predictions are, on average, far from the actual values.\n",
    "\n",
    "Root Mean Squared Error (RMSE) is also extremely large: RMSE is the square root of the average of squared differences between prediction and actual observation. It's a measure of how spread out these residuals are. In other words, it tells you how concentrated the data is around the line of best fit. Like MAE, a large RMSE value indicates poor model performance."
   ]
  },
  {
   "cell_type": "markdown",
   "id": "f26070e7",
   "metadata": {},
   "source": [
    "Retry with Random Forest Regressor"
   ]
  },
  {
   "cell_type": "code",
   "execution_count": 6,
   "id": "93a55611",
   "metadata": {},
   "outputs": [],
   "source": [
    "# Helper function to convert financial metrics\n",
    "def convert_to_numeric(value):\n",
    "    # Check if value is a string and contains 'B'\n",
    "    if isinstance(value, str) and 'B' in value:\n",
    "        try:\n",
    "            return float(value.replace('B', '')) * 1e9\n",
    "        except ValueError:\n",
    "            return np.nan\n",
    "    # If value is numeric (float or int), return it as is\n",
    "    elif isinstance(value, (float, int)):\n",
    "        return value\n",
    "    # For NaN and other non-numeric, non-string types\n",
    "    else:\n",
    "        return np.nan"
   ]
  },
  {
   "cell_type": "code",
   "execution_count": 8,
   "id": "a16df7c7",
   "metadata": {},
   "outputs": [],
   "source": [
    "# Apply the conversion\n",
    "columns_to_convert = ['revenue', 'profits', 'assets', 'marketValue']\n",
    "for column in columns_to_convert:\n",
    "    df[column] = df[column].apply(convert_to_numeric)\n",
    "\n",
    "# Drop rows with missing 'marketValue' as it's our target\n",
    "df.dropna(subset=['marketValue'], inplace=True)\n",
    "\n",
    "# Standardizing numeric features (excluding 'marketValue')\n",
    "numeric_columns = ['revenue', 'profits', 'assets']\n",
    "scaler = StandardScaler()\n",
    "df[numeric_columns] = scaler.fit_transform(df[numeric_columns].fillna(0))\n"
   ]
  },
  {
   "cell_type": "code",
   "execution_count": 9,
   "id": "76f28c67",
   "metadata": {},
   "outputs": [],
   "source": [
    "\n",
    "X = df.drop(['marketValue', 'rank', 'organizationName'], axis=1)  # Features\n",
    "y = df['marketValue']  # Target\n",
    "\n",
    "# Splitting the data\n",
    "X_train, X_test, y_train, y_test = train_test_split(X, y, test_size=0.3, random_state=42)\n"
   ]
  },
  {
   "cell_type": "code",
   "execution_count": 10,
   "id": "7c9d4b67",
   "metadata": {},
   "outputs": [
    {
     "data": {
      "text/html": [
       "<style>#sk-container-id-1 {color: black;background-color: white;}#sk-container-id-1 pre{padding: 0;}#sk-container-id-1 div.sk-toggleable {background-color: white;}#sk-container-id-1 label.sk-toggleable__label {cursor: pointer;display: block;width: 100%;margin-bottom: 0;padding: 0.3em;box-sizing: border-box;text-align: center;}#sk-container-id-1 label.sk-toggleable__label-arrow:before {content: \"▸\";float: left;margin-right: 0.25em;color: #696969;}#sk-container-id-1 label.sk-toggleable__label-arrow:hover:before {color: black;}#sk-container-id-1 div.sk-estimator:hover label.sk-toggleable__label-arrow:before {color: black;}#sk-container-id-1 div.sk-toggleable__content {max-height: 0;max-width: 0;overflow: hidden;text-align: left;background-color: #f0f8ff;}#sk-container-id-1 div.sk-toggleable__content pre {margin: 0.2em;color: black;border-radius: 0.25em;background-color: #f0f8ff;}#sk-container-id-1 input.sk-toggleable__control:checked~div.sk-toggleable__content {max-height: 200px;max-width: 100%;overflow: auto;}#sk-container-id-1 input.sk-toggleable__control:checked~label.sk-toggleable__label-arrow:before {content: \"▾\";}#sk-container-id-1 div.sk-estimator input.sk-toggleable__control:checked~label.sk-toggleable__label {background-color: #d4ebff;}#sk-container-id-1 div.sk-label input.sk-toggleable__control:checked~label.sk-toggleable__label {background-color: #d4ebff;}#sk-container-id-1 input.sk-hidden--visually {border: 0;clip: rect(1px 1px 1px 1px);clip: rect(1px, 1px, 1px, 1px);height: 1px;margin: -1px;overflow: hidden;padding: 0;position: absolute;width: 1px;}#sk-container-id-1 div.sk-estimator {font-family: monospace;background-color: #f0f8ff;border: 1px dotted black;border-radius: 0.25em;box-sizing: border-box;margin-bottom: 0.5em;}#sk-container-id-1 div.sk-estimator:hover {background-color: #d4ebff;}#sk-container-id-1 div.sk-parallel-item::after {content: \"\";width: 100%;border-bottom: 1px solid gray;flex-grow: 1;}#sk-container-id-1 div.sk-label:hover label.sk-toggleable__label {background-color: #d4ebff;}#sk-container-id-1 div.sk-serial::before {content: \"\";position: absolute;border-left: 1px solid gray;box-sizing: border-box;top: 0;bottom: 0;left: 50%;z-index: 0;}#sk-container-id-1 div.sk-serial {display: flex;flex-direction: column;align-items: center;background-color: white;padding-right: 0.2em;padding-left: 0.2em;position: relative;}#sk-container-id-1 div.sk-item {position: relative;z-index: 1;}#sk-container-id-1 div.sk-parallel {display: flex;align-items: stretch;justify-content: center;background-color: white;position: relative;}#sk-container-id-1 div.sk-item::before, #sk-container-id-1 div.sk-parallel-item::before {content: \"\";position: absolute;border-left: 1px solid gray;box-sizing: border-box;top: 0;bottom: 0;left: 50%;z-index: -1;}#sk-container-id-1 div.sk-parallel-item {display: flex;flex-direction: column;z-index: 1;position: relative;background-color: white;}#sk-container-id-1 div.sk-parallel-item:first-child::after {align-self: flex-end;width: 50%;}#sk-container-id-1 div.sk-parallel-item:last-child::after {align-self: flex-start;width: 50%;}#sk-container-id-1 div.sk-parallel-item:only-child::after {width: 0;}#sk-container-id-1 div.sk-dashed-wrapped {border: 1px dashed gray;margin: 0 0.4em 0.5em 0.4em;box-sizing: border-box;padding-bottom: 0.4em;background-color: white;}#sk-container-id-1 div.sk-label label {font-family: monospace;font-weight: bold;display: inline-block;line-height: 1.2em;}#sk-container-id-1 div.sk-label-container {text-align: center;}#sk-container-id-1 div.sk-container {/* jupyter's `normalize.less` sets `[hidden] { display: none; }` but bootstrap.min.css set `[hidden] { display: none !important; }` so we also need the `!important` here to be able to override the default hidden behavior on the sphinx rendered scikit-learn.org. See: https://github.com/scikit-learn/scikit-learn/issues/21755 */display: inline-block !important;position: relative;}#sk-container-id-1 div.sk-text-repr-fallback {display: none;}</style><div id=\"sk-container-id-1\" class=\"sk-top-container\"><div class=\"sk-text-repr-fallback\"><pre>RandomForestRegressor(random_state=42)</pre><b>In a Jupyter environment, please rerun this cell to show the HTML representation or trust the notebook. <br />On GitHub, the HTML representation is unable to render, please try loading this page with nbviewer.org.</b></div><div class=\"sk-container\" hidden><div class=\"sk-item\"><div class=\"sk-estimator sk-toggleable\"><input class=\"sk-toggleable__control sk-hidden--visually\" id=\"sk-estimator-id-1\" type=\"checkbox\" checked><label for=\"sk-estimator-id-1\" class=\"sk-toggleable__label sk-toggleable__label-arrow\">RandomForestRegressor</label><div class=\"sk-toggleable__content\"><pre>RandomForestRegressor(random_state=42)</pre></div></div></div></div></div>"
      ],
      "text/plain": [
       "RandomForestRegressor(random_state=42)"
      ]
     },
     "execution_count": 10,
     "metadata": {},
     "output_type": "execute_result"
    }
   ],
   "source": [
    "# Initialize the Random Forest Regressor\n",
    "rf_model = RandomForestRegressor(n_estimators=100, random_state=42)\n",
    "\n",
    "# Fit the model to the training data\n",
    "rf_model.fit(X_train, y_train)\n"
   ]
  },
  {
   "cell_type": "code",
   "execution_count": 11,
   "id": "f94081d7",
   "metadata": {},
   "outputs": [
    {
     "name": "stdout",
     "output_type": "stream",
     "text": [
      "MAE: 18933456427.378963\n",
      "RMSE: 40726953279.64194\n",
      "R²: 0.5521251597917307\n"
     ]
    }
   ],
   "source": [
    "# Make predictions\n",
    "y_pred = rf_model.predict(X_test)\n",
    "\n",
    "# Evaluate the model\n",
    "mae = mean_absolute_error(y_test, y_pred)\n",
    "rmse = np.sqrt(mean_squared_error(y_test, y_pred))\n",
    "r2 = r2_score(y_test, y_pred)\n",
    "\n",
    "print(f\"MAE: {mae}\")\n",
    "print(f\"RMSE: {rmse}\")\n",
    "print(f\"R²: {r2}\")\n",
    "\n"
   ]
  },
  {
   "cell_type": "markdown",
   "id": "d50aa39e",
   "metadata": {},
   "source": [
    "Conclusions\n",
    "Model Performance: The Random Forest Regressor has demonstrated a moderate ability to predict the market value of companies, capturing over half of the variance in the dataset. However, the significant MAE and RMSE indicate that there is substantial room for improvement, especially for more accurate predictions across companies of different sizes.\n",
    "\n",
    "Potential Improvements:\n",
    "\n",
    "Feature Engineering: More sophisticated feature engineering might help improve the model's predictive accuracy. This could include creating interaction terms, polynomial features, or extracting more informative features from the current dataset."
   ]
  }
 ],
 "metadata": {
  "kernelspec": {
   "display_name": "Python 3 (ipykernel)",
   "language": "python",
   "name": "python3"
  },
  "language_info": {
   "codemirror_mode": {
    "name": "ipython",
    "version": 3
   },
   "file_extension": ".py",
   "mimetype": "text/x-python",
   "name": "python",
   "nbconvert_exporter": "python",
   "pygments_lexer": "ipython3",
   "version": "3.10.9"
  }
 },
 "nbformat": 4,
 "nbformat_minor": 5
}
