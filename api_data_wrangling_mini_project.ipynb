{
 "cells": [
  {
   "cell_type": "markdown",
   "metadata": {},
   "source": [
    "This exercise will require you to pull some data from https://data.nasdaq.com/ (formerly Quandl API)."
   ]
  },
  {
   "cell_type": "markdown",
   "metadata": {},
   "source": [
    "As a first step, you will need to register a free account on the https://data.nasdaq.com/ website."
   ]
  },
  {
   "cell_type": "markdown",
   "metadata": {},
   "source": [
    "After you register, you will be provided with a unique API key, that you should store:\n",
    "\n",
    "*Note*: Use a `.env` file and put your key in there and `python-dotenv` to access it in this notebook. \n",
    "\n",
    "The code below uses a key that was used when generating this project but has since been deleted. Never submit your keys to source control. There is a `.env-example` file in this repository to illusrtate what you need. Copy that to a file called `.env` and use your own api key in that `.env` file. Make sure you also have a `.gitignore` file with a line for `.env` added to it. \n",
    "\n",
    "The standard Python gitignore is [here](https://github.com/github/gitignore/blob/master/Python.gitignore) you can just copy that. "
   ]
  },
  {
   "cell_type": "code",
   "execution_count": 62,
   "metadata": {},
   "outputs": [
    {
     "name": "stdout",
     "output_type": "stream",
     "text": [
      "API_KEY: mQ57PNpohUGVC_utW71N\n"
     ]
    }
   ],
   "source": [
    "# get api key from your .env file\n",
    "import os\n",
    "from dotenv import load_dotenv\n",
    "\n",
    "load_dotenv()\n",
    "API_KEY = os.getenv('NASDAQ_API_KEY')\n",
    "\n",
    "print(\"API_KEY:\", API_KEY)"
   ]
  },
  {
   "cell_type": "markdown",
   "metadata": {},
   "source": [
    "Nasdaq Data has a large number of data sources, but, unfortunately, most of them require a Premium subscription. Still, there are also a good number of free datasets."
   ]
  },
  {
   "cell_type": "markdown",
   "metadata": {},
   "source": [
    "For this mini project, we will focus on equities data from the Frankfurt Stock Exhange (FSE), which is available for free. We'll try and analyze the stock prices of a company called Carl Zeiss Meditec, which manufactures tools for eye examinations, as well as medical lasers for laser eye surgery: https://www.zeiss.com/meditec/int/home.html. The company is listed under the stock ticker AFX_X."
   ]
  },
  {
   "cell_type": "markdown",
   "metadata": {},
   "source": [
    "You can find the detailed Nasdaq Data API instructions here: https://docs.data.nasdaq.com/docs/in-depth-usage"
   ]
  },
  {
   "cell_type": "markdown",
   "metadata": {},
   "source": [
    "While there is a dedicated Python package for connecting to the Nasdaq API, we would prefer that you use the *requests* package, which can be easily downloaded using *pip* or *conda*. You can find the documentation for the package here: http://docs.python-requests.org/en/master/ "
   ]
  },
  {
   "cell_type": "markdown",
   "metadata": {},
   "source": [
    "Finally, apart from the *requests* package, you are encouraged to not use any third party Python packages, such as *pandas*, and instead focus on what's available in the Python Standard Library (the *collections* module might come in handy: https://pymotw.com/3/collections/).\n",
    "Also, since you won't have access to DataFrames, you are encouraged to us Python's native data structures - preferably dictionaries, though some questions can also be answered using lists.\n",
    "You can read more on these data structures here: https://docs.python.org/3/tutorial/datastructures.html"
   ]
  },
  {
   "cell_type": "markdown",
   "metadata": {},
   "source": [
    "Keep in mind that the JSON responses you will be getting from the API map almost one-to-one to Python's dictionaries. Unfortunately, they can be very nested, so make sure you read up on indexing dictionaries in the documentation provided above."
   ]
  },
  {
   "cell_type": "code",
   "execution_count": 63,
   "metadata": {},
   "outputs": [],
   "source": [
    "# First, import the relevant modules\n",
    "import requests"
   ]
  },
  {
   "cell_type": "markdown",
   "metadata": {},
   "source": [
    "Note: API's can change a bit with each version, for this exercise it is reccomended to use the nasdaq api at `https://data.nasdaq.com/api/v3/`. This is the same api as what used to be quandl so `https://www.quandl.com/api/v3/` should work too.\n",
    "\n",
    "Hint: We are looking for the `AFX_X` data on the `datasets/FSE/` dataset."
   ]
  },
  {
   "cell_type": "code",
   "execution_count": 64,
   "metadata": {
    "scrolled": true
   },
   "outputs": [
    {
     "name": "stdout",
     "output_type": "stream",
     "text": [
      "dataset_data:  {'limit': None, 'transform': None, 'column_index': None, 'column_names': ['Date', 'Open', 'High', 'Low', 'Close', 'Change', 'Traded Volume', 'Turnover', 'Last Price of the Day', 'Daily Traded Units', 'Daily Turnover'], 'start_date': '2020-11-30', 'end_date': '2020-12-01', 'frequency': 'daily', 'data': [['2020-12-01', 112.2, 112.2, 111.5, 112.0, None, 51.0, 5703.0, None, None, None], ['2020-11-30', 111.0, 113.6, 111.0, 112.1, None, 315.0, 35111.5, None, None, None]], 'collapse': None, 'order': None}\n"
     ]
    }
   ],
   "source": [
    "# Now, call the Nasdaq API and pull out a small sample of the data (only one day) to get a glimpse\n",
    "# into the JSON structure that will be returned\n",
    "url = 'https://data.nasdaq.com/api/v3/datasets/FSE/AFX_X/data.json'\n",
    "\n",
    "params = dict(key=API_KEY,start_date='2020-11-30',end_date='2020-12-01')\n",
    "\n",
    "res = requests.get(url,params)\n",
    "\n",
    "json_data = res.json()\n",
    "\n",
    "for k in json_data.keys():\n",
    "    print(k + ': ', json_data[k])"
   ]
  },
  {
   "cell_type": "code",
   "execution_count": 65,
   "metadata": {},
   "outputs": [
    {
     "data": {
      "text/plain": [
       "'2020-12-01'"
      ]
     },
     "execution_count": 65,
     "metadata": {},
     "output_type": "execute_result"
    }
   ],
   "source": [
    "json_data['dataset_data']['data'][0][0]"
   ]
  },
  {
   "cell_type": "code",
   "execution_count": 66,
   "metadata": {},
   "outputs": [],
   "source": [
    "# Inspect the JSON structure of the object you created, and take note of how nested it is,\n",
    "# as well as the overall structure"
   ]
  },
  {
   "cell_type": "markdown",
   "metadata": {},
   "source": [
    "These are your tasks for this mini project:\n",
    "\n",
    "1. Collect data from the Franfurt Stock Exchange, for the ticker AFX_X, for the whole year 2017 (keep in mind that the date format is YYYY-MM-DD).\n",
    "2. Convert the returned JSON object into a Python dictionary.\n",
    "3. Calculate what the highest and lowest opening prices were for the stock in this period.\n",
    "4. What was the largest change in any one day (based on High and Low price)?\n",
    "5. What was the largest change between any two days (based on Closing Price)?\n",
    "6. What was the average daily trading volume during this year?\n",
    "7. (Optional) What was the median trading volume during this year. (Note: you may need to implement your own function for calculating the median.)"
   ]
  },
  {
   "cell_type": "markdown",
   "metadata": {},
   "source": [
    "**Collecting data from FSE for AFX_X for the whole of 2017**"
   ]
  },
  {
   "cell_type": "code",
   "execution_count": 67,
   "metadata": {},
   "outputs": [],
   "source": [
    "#Collect AFX_X 2017 data\n",
    "\n",
    "params_2017 = dict(key=API_KEY,start_date='2017-01-01',end_date='2017-12-31')\n",
    "\n",
    "AFX_X_2017 = requests.get(url,params_2017)\n",
    "\n",
    "json_AFX_X_2017 = AFX_X_2017.json()\n",
    "\n",
    "#json_AFX_X_2017 is in Python dict format"
   ]
  },
  {
   "cell_type": "markdown",
   "metadata": {},
   "source": [
    "**Calculating the highest and lowest opening prices of 2017**"
   ]
  },
  {
   "cell_type": "code",
   "execution_count": 68,
   "metadata": {},
   "outputs": [],
   "source": [
    "#To calculate the highest and lowest opening prices in the period,\n",
    "#create a new list that contains just all open prices.\n",
    "\n",
    "data_list = json_AFX_X_2017['dataset_data']['data']\n",
    "\n",
    "opening_prices = []\n",
    "\n",
    "for data in data_list:\n",
    "    opening_prices.append(data[1])\n",
    "\n",
    "#Removing non-floats from the list\n",
    "opening_prices = [item for item in opening_prices if isinstance(item, float)]\n",
    "\n",
    "    "
   ]
  },
  {
   "cell_type": "code",
   "execution_count": 69,
   "metadata": {},
   "outputs": [
    {
     "name": "stdout",
     "output_type": "stream",
     "text": [
      "The highest opening price of 2017 was 53.11, which was on 2017-12-14.\n",
      "The lowest opening price of 2017 was 34.0, which was on 2017-01-24.\n"
     ]
    }
   ],
   "source": [
    "#Find max and min in opening_prices\n",
    "\n",
    "max_price = max(opening_prices)\n",
    "min_price = min(opening_prices)\n",
    "\n",
    "max_price_date = [item[0] for item in data_list if item[1] == max_price][0]\n",
    "\n",
    "#print(max_price_date)\n",
    "\n",
    "min_price_date = [item[0] for item in data_list if item[1] == min_price][0]\n",
    "\n",
    "#print(min_price_date)\n",
    "\n",
    "print('The highest opening price of 2017 was '+ str(max_price) + ', which was on ' + str(max_price_date) +'.')\n",
    "print('The lowest opening price of 2017 was '+ str(min_price) + ', which was on ' + str(min_price_date) + '.')"
   ]
  },
  {
   "cell_type": "markdown",
   "metadata": {},
   "source": [
    "**The Largest Intraday Price Change**\n",
    "The instruction asks to base the calculation on daily high and low, so I will follow it, but there is also 'Change' values provided by the API, so it would be simpler to just looked for the highest aboslute \"Change\" value in the dataset."
   ]
  },
  {
   "cell_type": "code",
   "execution_count": 74,
   "metadata": {},
   "outputs": [],
   "source": [
    "#Create a nested list that houses lists containing daily highs and lows.\n",
    "\n",
    "high_low_list = []\n",
    "\n",
    "for price in data_list:\n",
    "    high_low_list.append([price[0],price[2], price[3]])\n",
    "    \n",
    "#print(high_low_list)"
   ]
  },
  {
   "cell_type": "code",
   "execution_count": 75,
   "metadata": {},
   "outputs": [],
   "source": [
    "#Calculate the absolute difference between the high, low prices in each nested list\n",
    "daily_change = []\n",
    "\n",
    "for price in high_low_list:\n",
    "    daily_change.append([price[0],abs(price[1]-price[2])])\n",
    "    \n",
    "#print(daily_change)"
   ]
  },
  {
   "cell_type": "code",
   "execution_count": 72,
   "metadata": {},
   "outputs": [
    {
     "name": "stdout",
     "output_type": "stream",
     "text": [
      "The largest daily price change occurred on 2017-05-11, and was 2.81.\n"
     ]
    }
   ],
   "source": [
    "#Find the largest value in the daily_change list\n",
    "max_daily_change = max(daily_change, key=lambda x: x[1])\n",
    "\n",
    "print('The largest daily price change occurred on ' + str(max_daily_change[0]) + ', and was ' + str(round(max_daily_change[1],2)) + '.')"
   ]
  },
  {
   "cell_type": "markdown",
   "metadata": {},
   "source": [
    "**What was the largest change between any two days (based on Closing Price)?**"
   ]
  },
  {
   "cell_type": "code",
   "execution_count": 73,
   "metadata": {},
   "outputs": [
    {
     "name": "stdout",
     "output_type": "stream",
     "text": [
      "The largest close price difference was -2.56 between 2017-08-08 and 2017-08-09.\n"
     ]
    }
   ],
   "source": [
    "#Create a nested list where the sublist contain 2 consecutive dates and 2 closing prices\n",
    "\n",
    "#To do this, first reduce data_list to a nested list with sublists that only has dates and closing price.\n",
    "\n",
    "close_price = []\n",
    "\n",
    "for data in data_list:\n",
    "    close_price.append([data[0],data[4]])\n",
    "    \n",
    "#print(close_price)    \n",
    "\n",
    "#Next loop through close_price to create a list with sublist that contains [date, date+1, close_price of date, close_price of date+1]\n",
    "\n",
    "close_price_2d = []\n",
    "\n",
    "for i in range(len(close_price)-1):\n",
    "    new_sublist = [close_price[i][0],close_price[i+1][0],close_price[i][1],close_price[i+1][1]]\n",
    "    close_price_2d.append(new_sublist)\n",
    "    \n",
    "#print(close_price_2d)\n",
    "\n",
    "#Next loop through close_price_2d and create a new list with 2 dates and the difference between the two close prices in each sublist\n",
    "\n",
    "price_change_2d = []\n",
    "\n",
    "for price in close_price_2d:\n",
    "    price_change_2d.append([price[0], price[1], (price[2]-price[3])])\n",
    "    \n",
    "#print(price_change_2d)\n",
    "\n",
    "#Lastly find the largest absolute price change in price_change_2d\n",
    "\n",
    "max_change_2d = max(price_change_2d, key=lambda x: abs(x[2]))\n",
    "\n",
    "print('The largest close price difference was ' + str(round(max_change_2d[2],2)) + ' between ' + str(max_change_2d[1]) + \\\n",
    "      ' and ' + str(max_change_2d[0]) + '.')"
   ]
  },
  {
   "cell_type": "markdown",
   "metadata": {},
   "source": [
    "**6.What was the average daily trading volume during this year?**"
   ]
  },
  {
   "cell_type": "code",
   "execution_count": 80,
   "metadata": {},
   "outputs": [
    {
     "name": "stdout",
     "output_type": "stream",
     "text": [
      "22726706.0\n",
      "89124.33725490196\n"
     ]
    }
   ],
   "source": [
    "#calculate average of data_list[6]\n",
    "\n",
    "sum_volume = 0\n",
    "\n",
    "for volume in data_list:\n",
    "    sum_volume += volume[6]\n",
    "\n",
    "#print(sum_volume)\n",
    "\n",
    "average_daily_trading_volume = sum_volume / len(data_list)\n",
    "\n",
    "print(average_daily_trading_volume)\n"
   ]
  },
  {
   "cell_type": "markdown",
   "metadata": {},
   "source": [
    "**7. Optional - what is the median of the traded volume**"
   ]
  },
  {
   "cell_type": "code",
   "execution_count": 95,
   "metadata": {},
   "outputs": [
    {
     "name": "stdout",
     "output_type": "stream",
     "text": [
      "76286.0\n"
     ]
    }
   ],
   "source": [
    "#Create a list of Traded Volume and sort them\n",
    "\n",
    "traded_volume = []\n",
    "\n",
    "for data in data_list:\n",
    "    traded_volume.append(data[6])\n",
    "    \n",
    "traded_volume = sorted(traded_volume)\n",
    "\n",
    "#print(traded_volume)\n",
    "\n",
    "#create a list of index to go with each traded volume item\n",
    "\n",
    "index_list = list(range(len(traded_volume)))\n",
    "\n",
    "#combine index and traded volume lists into a dict\n",
    "\n",
    "index_volume_dict = {key: value for key, value in zip(index_list,traded_volume)}\n",
    "\n",
    "#print(index_volume_dict)\n",
    "\n",
    "#Calculate median index as key, and get the corresponding value.\n",
    "\n",
    "import statistics\n",
    "\n",
    "median_index = statistics.median(index_list)\n",
    "\n",
    "median_traded_volume = index_volume_dict.get(median_index)\n",
    "\n",
    "print(median_traded_volume)\n",
    "  "
   ]
  }
 ],
 "metadata": {
  "interpreter": {
   "hash": "7635eb1b9d0fe97add78a7368b6b431c09bb8ad5c42e437d64abdd99821c31ae"
  },
  "kernelspec": {
   "display_name": "Python 3 (ipykernel)",
   "language": "python",
   "name": "python3"
  },
  "language_info": {
   "codemirror_mode": {
    "name": "ipython",
    "version": 3
   },
   "file_extension": ".py",
   "mimetype": "text/x-python",
   "name": "python",
   "nbconvert_exporter": "python",
   "pygments_lexer": "ipython3",
   "version": "3.10.9"
  }
 },
 "nbformat": 4,
 "nbformat_minor": 4
}
