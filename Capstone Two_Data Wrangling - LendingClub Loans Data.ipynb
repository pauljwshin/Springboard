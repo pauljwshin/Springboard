{
 "cells": [
  {
   "cell_type": "markdown",
   "id": "0eaaa31c",
   "metadata": {},
   "source": [
    "# LendingClub Loans Data"
   ]
  },
  {
   "cell_type": "markdown",
   "id": "e43fdddd",
   "metadata": {},
   "source": [
    "I'm using 2 csv files\n",
    "1. accepted_2007_to_2018Q4.csv (too large to upload to git so url here : https://www.kaggle.com/datasets/wordsforthewise/lending-club/data)\n",
    "2. LCDataDictionary.csv (uploaded to github)\n",
    "\n",
    "The final goal is to build a model that can predict loan default with the data available at the time of applications."
   ]
  },
  {
   "cell_type": "code",
   "execution_count": 1,
   "id": "9137dd05",
   "metadata": {},
   "outputs": [],
   "source": [
    "#package import\n",
    "\n",
    "import pandas as pd\n",
    "import matplotlib.pyplot as plt\n"
   ]
  },
  {
   "cell_type": "markdown",
   "id": "dc869337",
   "metadata": {},
   "source": [
    "**Data Loading**"
   ]
  },
  {
   "cell_type": "code",
   "execution_count": 2,
   "id": "ea4be0a2",
   "metadata": {},
   "outputs": [
    {
     "name": "stderr",
     "output_type": "stream",
     "text": [
      "/var/folders/n_/95rcqzx91d1bf_zbx38smk080000gn/T/ipykernel_31871/962645636.py:2: DtypeWarning: Columns (0,19,49,59,118,129,130,131,134,135,136,139,145,146,147) have mixed types. Specify dtype option on import or set low_memory=False.\n",
      "  accepted_df = pd.read_csv('data/raw/accepted_2007_to_2018Q4.csv')\n"
     ]
    }
   ],
   "source": [
    "#load dataset\n",
    "accepted_df = pd.read_csv('data/raw/accepted_2007_to_2018Q4.csv')"
   ]
  },
  {
   "cell_type": "code",
   "execution_count": 3,
   "id": "1e261029",
   "metadata": {},
   "outputs": [],
   "source": [
    "data_dictionary = pd.read_csv('data/raw/LCDataDictionary.csv')"
   ]
  },
  {
   "cell_type": "code",
   "execution_count": 169,
   "id": "cecacb0b",
   "metadata": {
    "scrolled": false
   },
   "outputs": [
    {
     "name": "stdout",
     "output_type": "stream",
     "text": [
      "<class 'pandas.core.frame.DataFrame'>\n",
      "RangeIndex: 2260701 entries, 0 to 2260700\n",
      "Data columns (total 151 columns):\n",
      " #    Column                                      Non-Null Count    Dtype  \n",
      "---   ------                                      --------------    -----  \n",
      " 0    acc_now_delinq                              2260639 non-null  float64\n",
      " 1    acc_open_past_24mths                        2210638 non-null  float64\n",
      " 2    addr_state                                  2260668 non-null  object \n",
      " 3    all_util                                    1394320 non-null  float64\n",
      " 4    annual_inc                                  2260664 non-null  float64\n",
      " 5    annual_inc_joint                            120710 non-null   float64\n",
      " 6    application_type                            2260668 non-null  object \n",
      " 7    avg_cur_bal                                 2190322 non-null  float64\n",
      " 8    bc_open_to_buy                              2185733 non-null  float64\n",
      " 9    bc_util                                     2184597 non-null  float64\n",
      " 10   chargeoff_within_12_mths                    2260523 non-null  float64\n",
      " 11   collection_recovery_fee                     2260668 non-null  float64\n",
      " 12   collections_12_mths_ex_med                  2260523 non-null  float64\n",
      " 13   debt_settlement_flag                        2260668 non-null  object \n",
      " 14   debt_settlement_flag_date                   34246 non-null    object \n",
      " 15   deferral_term                               10917 non-null    float64\n",
      " 16   delinq_2yrs                                 2260639 non-null  float64\n",
      " 17   delinq_amnt                                 2260639 non-null  float64\n",
      " 18   desc                                        126067 non-null   object \n",
      " 19   disbursement_method                         2260668 non-null  object \n",
      " 20   dti                                         2258957 non-null  float64\n",
      " 21   dti_joint                                   120706 non-null   float64\n",
      " 22   earliest_cr_line                            2260639 non-null  object \n",
      " 23   emp_length                                  2113761 non-null  object \n",
      " 24   emp_title                                   2093699 non-null  object \n",
      " 25   fico_range_high                             2260668 non-null  float64\n",
      " 26   fico_range_low                              2260668 non-null  float64\n",
      " 27   funded_amnt                                 2260668 non-null  float64\n",
      " 28   funded_amnt_inv                             2260668 non-null  float64\n",
      " 29   grade                                       2260668 non-null  object \n",
      " 30   hardship_amount                             10917 non-null    float64\n",
      " 31   hardship_dpd                                10917 non-null    float64\n",
      " 32   hardship_end_date                           10917 non-null    object \n",
      " 33   hardship_flag                               2260668 non-null  object \n",
      " 34   hardship_last_payment_amount                10917 non-null    float64\n",
      " 35   hardship_length                             10917 non-null    float64\n",
      " 36   hardship_loan_status                        10917 non-null    object \n",
      " 37   hardship_payoff_balance_amount              10917 non-null    float64\n",
      " 38   hardship_reason                             10917 non-null    object \n",
      " 39   hardship_start_date                         10917 non-null    object \n",
      " 40   hardship_status                             10917 non-null    object \n",
      " 41   hardship_type                               10917 non-null    object \n",
      " 42   home_ownership                              2260668 non-null  object \n",
      " 43   id                                          2260701 non-null  object \n",
      " 44   il_util                                     1191818 non-null  float64\n",
      " 45   initial_list_status                         2260668 non-null  object \n",
      " 46   inq_fi                                      1394539 non-null  float64\n",
      " 47   inq_last_12m                                1394538 non-null  float64\n",
      " 48   inq_last_6mths                              2260638 non-null  float64\n",
      " 49   installment                                 2260668 non-null  float64\n",
      " 50   int_rate                                    2260668 non-null  float64\n",
      " 51   issue_d                                     2260668 non-null  object \n",
      " 52   last_credit_pull_d                          2260596 non-null  object \n",
      " 53   last_fico_range_high                        2260668 non-null  float64\n",
      " 54   last_fico_range_low                         2260668 non-null  float64\n",
      " 55   last_pymnt_amnt                             2260668 non-null  float64\n",
      " 56   last_pymnt_d                                2258241 non-null  object \n",
      " 57   loan_amnt                                   2260668 non-null  float64\n",
      " 58   loan_status                                 2260668 non-null  object \n",
      " 59   max_bal_bc                                  1394539 non-null  float64\n",
      " 60   member_id                                   0 non-null        float64\n",
      " 61   mo_sin_old_il_acct                          2121597 non-null  float64\n",
      " 62   mo_sin_old_rev_tl_op                        2190391 non-null  float64\n",
      " 63   mo_sin_rcnt_rev_tl_op                       2190391 non-null  float64\n",
      " 64   mo_sin_rcnt_tl                              2190392 non-null  float64\n",
      " 65   mort_acc                                    2210638 non-null  float64\n",
      " 66   mths_since_last_delinq                      1102166 non-null  float64\n",
      " 67   mths_since_last_major_derog                 580775 non-null   float64\n",
      " 68   mths_since_last_record                      359156 non-null   float64\n",
      " 69   mths_since_rcnt_il                          1350744 non-null  float64\n",
      " 70   mths_since_recent_bc                        2187256 non-null  float64\n",
      " 71   mths_since_recent_bc_dlq                    519701 non-null   float64\n",
      " 72   mths_since_recent_inq                       1965233 non-null  float64\n",
      " 73   mths_since_recent_revol_delinq              740359 non-null   float64\n",
      " 74   next_pymnt_d                                915358 non-null   object \n",
      " 75   num_accts_ever_120_pd                       2190392 non-null  float64\n",
      " 76   num_actv_bc_tl                              2190392 non-null  float64\n",
      " 77   num_actv_rev_tl                             2190392 non-null  float64\n",
      " 78   num_bc_sats                                 2202078 non-null  float64\n",
      " 79   num_bc_tl                                   2190392 non-null  float64\n",
      " 80   num_il_tl                                   2190392 non-null  float64\n",
      " 81   num_op_rev_tl                               2190392 non-null  float64\n",
      " 82   num_rev_accts                               2190391 non-null  float64\n",
      " 83   num_rev_tl_bal_gt_0                         2190392 non-null  float64\n",
      " 84   num_sats                                    2202078 non-null  float64\n",
      " 85   num_tl_120dpd_2m                            2107011 non-null  float64\n",
      " 86   num_tl_30dpd                                2190392 non-null  float64\n",
      " 87   num_tl_90g_dpd_24m                          2190392 non-null  float64\n",
      " 88   num_tl_op_past_12m                          2190392 non-null  float64\n",
      " 89   open_acc                                    2260639 non-null  float64\n",
      " 90   open_acc_6m                                 1394538 non-null  float64\n",
      " 91   open_act_il                                 1394539 non-null  float64\n",
      " 92   open_il_12m                                 1394539 non-null  float64\n",
      " 93   open_il_24m                                 1394539 non-null  float64\n",
      " 94   open_rv_12m                                 1394539 non-null  float64\n",
      " 95   open_rv_24m                                 1394539 non-null  float64\n",
      " 96   orig_projected_additional_accrued_interest  8651 non-null     float64\n",
      " 97   out_prncp                                   2260668 non-null  float64\n",
      " 98   out_prncp_inv                               2260668 non-null  float64\n",
      " 99   payment_plan_start_date                     10917 non-null    object \n",
      " 100  pct_tl_nvr_dlq                              2190237 non-null  float64\n",
      " 101  percent_bc_gt_75                            2185289 non-null  float64\n",
      " 102  policy_code                                 2260668 non-null  float64\n",
      " 103  pub_rec                                     2260639 non-null  float64\n",
      " 104  pub_rec_bankruptcies                        2259303 non-null  float64\n",
      " 105  purpose                                     2260668 non-null  object \n",
      " 106  pymnt_plan                                  2260668 non-null  object \n",
      " 107  recoveries                                  2260668 non-null  float64\n",
      " 108  revol_bal                                   2260668 non-null  float64\n",
      " 109  revol_bal_joint                             108020 non-null   float64\n",
      " 110  revol_util                                  2258866 non-null  float64\n",
      " 111  sec_app_chargeoff_within_12_mths            108021 non-null   float64\n",
      " 112  sec_app_collections_12_mths_ex_med          108021 non-null   float64\n",
      " 113  sec_app_earliest_cr_line                    108021 non-null   object \n",
      " 114  sec_app_fico_range_high                     108021 non-null   float64\n",
      " 115  sec_app_fico_range_low                      108021 non-null   float64\n",
      " 116  sec_app_inq_last_6mths                      108021 non-null   float64\n",
      " 117  sec_app_mort_acc                            108021 non-null   float64\n",
      " 118  sec_app_mths_since_last_major_derog         35942 non-null    float64\n",
      " 119  sec_app_num_rev_accts                       108021 non-null   float64\n",
      " 120  sec_app_open_acc                            108021 non-null   float64\n",
      " 121  sec_app_open_act_il                         108021 non-null   float64\n",
      " 122  sec_app_revol_util                          106184 non-null   float64\n",
      " 123  settlement_amount                           34246 non-null    float64\n",
      " 124  settlement_date                             34246 non-null    object \n",
      " 125  settlement_percentage                       34246 non-null    float64\n",
      " 126  settlement_status                           34246 non-null    object \n",
      " 127  settlement_term                             34246 non-null    float64\n",
      " 128  sub_grade                                   2260668 non-null  object \n",
      " 129  tax_liens                                   2260563 non-null  float64\n",
      " 130  term                                        2260668 non-null  object \n",
      " 131  title                                       2237343 non-null  object \n",
      " 132  tot_coll_amt                                2190392 non-null  float64\n",
      " 133  tot_cur_bal                                 2190392 non-null  float64\n",
      " 134  tot_hi_cred_lim                             2190392 non-null  float64\n",
      " 135  total_acc                                   2260639 non-null  float64\n",
      " 136  total_bal_ex_mort                           2210638 non-null  float64\n",
      " 137  total_bal_il                                1394539 non-null  float64\n",
      " 138  total_bc_limit                              2210638 non-null  float64\n",
      " 139  total_cu_tl                                 1394538 non-null  float64\n",
      " 140  total_il_high_credit_limit                  2190392 non-null  float64\n",
      " 141  total_pymnt                                 2260668 non-null  float64\n",
      " 142  total_pymnt_inv                             2260668 non-null  float64\n",
      " 143  total_rec_int                               2260668 non-null  float64\n",
      " 144  total_rec_late_fee                          2260668 non-null  float64\n",
      " 145  total_rec_prncp                             2260668 non-null  float64\n",
      " 146  total_rev_hi_lim                            2190392 non-null  float64\n",
      " 147  url                                         2260668 non-null  object \n",
      " 148  verification_status                         2260668 non-null  object \n",
      " 149  verification_status_joint                   115730 non-null   object \n",
      " 150  zip_code                                    2260667 non-null  object \n",
      "dtypes: float64(113), object(38)\n",
      "memory usage: 2.5+ GB\n"
     ]
    }
   ],
   "source": [
    "# explore df\n",
    "\n",
    "\n",
    "\n",
    "accepted_df = accepted_df.reindex(sorted(accepted_df.columns), axis=1)\n",
    "\n",
    "accepted_df.info(verbose=True, show_counts=True)"
   ]
  },
  {
   "cell_type": "markdown",
   "id": "dcd05c27",
   "metadata": {},
   "source": [
    "# Determine Target Variable"
   ]
  },
  {
   "cell_type": "code",
   "execution_count": 170,
   "id": "a6f9d802",
   "metadata": {},
   "outputs": [
    {
     "data": {
      "text/plain": [
       "array(['Fully Paid', 'Current', 'Charged Off', 'In Grace Period',\n",
       "       'Late (31-120 days)', 'Late (16-30 days)', 'Default', nan,\n",
       "       'Does not meet the credit policy. Status:Fully Paid',\n",
       "       'Does not meet the credit policy. Status:Charged Off'],\n",
       "      dtype=object)"
      ]
     },
     "execution_count": 170,
     "metadata": {},
     "output_type": "execute_result"
    }
   ],
   "source": [
    "# Using intuition, review the columns that are likely to have the outcome of the loans, such as default.\n",
    "\n",
    "accepted_df['loan_status'].unique()\n"
   ]
  },
  {
   "cell_type": "code",
   "execution_count": 171,
   "id": "4df25574",
   "metadata": {},
   "outputs": [
    {
     "data": {
      "image/png": "[encoded data removed]",
      "text/plain": [
       "<Figure size 640x480 with 1 Axes>"
      ]
     },
     "metadata": {},
     "output_type": "display_data"
    }
   ],
   "source": [
    "# Count the occurrences of each unique value in 'loan_status'\n",
    "value_counts = accepted_df['loan_status'].value_counts()\n",
    "\n",
    "# Create a bar plot to visualize the counts\n",
    "plt.bar(value_counts.index, value_counts.values, color='skyblue', edgecolor='black')\n",
    "plt.xlabel('Loan Status')\n",
    "plt.ylabel('Count')\n",
    "plt.title('Histogram of Loan Status')\n",
    "plt.xticks(rotation=90)  # Rotate x-axis labels for better readability\n",
    "plt.show()\n"
   ]
  },
  {
   "cell_type": "code",
   "execution_count": 172,
   "id": "79ca094e",
   "metadata": {},
   "outputs": [
    {
     "data": {
      "text/plain": [
       "2260701"
      ]
     },
     "execution_count": 172,
     "metadata": {},
     "output_type": "execute_result"
    }
   ],
   "source": [
    "len(accepted_df)"
   ]
  },
  {
   "cell_type": "code",
   "execution_count": 173,
   "id": "e16f3493",
   "metadata": {},
   "outputs": [],
   "source": [
    "# almost 0.9M records are of loans still being paid off, so I can't use them for predicting the final outcome. I will remove them.\n",
    "\n",
    "# Also removing all other statuses except for Fully Paid and Charged Off for simplicity.\n",
    "\n",
    "# Values to be excluded from the 'loan_status' column\n",
    "keep_statuses = ['Fully Paid', 'Charged Off']\n",
    "\n",
    "# Create a condition to select records that do not have these values\n",
    "condition = accepted_df['loan_status'].isin(keep_statuses)\n",
    "\n",
    "# Apply the condition to the DataFrame to remove records with those values\n",
    "comp_loan_df = accepted_df[condition]\n"
   ]
  },
  {
   "cell_type": "code",
   "execution_count": 174,
   "id": "ca089421",
   "metadata": {},
   "outputs": [
    {
     "data": {
      "text/plain": [
       "1345310"
      ]
     },
     "execution_count": 174,
     "metadata": {},
     "output_type": "execute_result"
    }
   ],
   "source": [
    "# Remaining records that are complete\n",
    "\n",
    "len(comp_loan_df)"
   ]
  },
  {
   "cell_type": "code",
   "execution_count": 175,
   "id": "92ae9af4",
   "metadata": {},
   "outputs": [
    {
     "data": {
      "text/plain": [
       "915391"
      ]
     },
     "execution_count": 175,
     "metadata": {},
     "output_type": "execute_result"
    }
   ],
   "source": [
    "# 0.9M 'current' records are taken out\n",
    "\n",
    "len(accepted_df)-len(comp_loan_df)"
   ]
  },
  {
   "cell_type": "code",
   "execution_count": 176,
   "id": "55337b44",
   "metadata": {},
   "outputs": [
    {
     "data": {
      "image/png": "[encoded data removed]",
      "text/plain": [
       "<Figure size 640x480 with 1 Axes>"
      ]
     },
     "metadata": {},
     "output_type": "display_data"
    }
   ],
   "source": [
    "# Re-vizualize the loan_status with 'Current' removed\n",
    "value_counts = comp_loan_df['loan_status'].value_counts()\n",
    "\n",
    "# Create a bar plot to visualize the counts\n",
    "plt.bar(value_counts.index, value_counts.values, color='skyblue', edgecolor='black')\n",
    "plt.xlabel('Loan Status')\n",
    "plt.ylabel('Count')\n",
    "plt.title('Histogram of Loan Status')\n",
    "plt.xticks(rotation=90)  # Rotate x-axis labels for better readability\n",
    "plt.show()"
   ]
  },
  {
   "cell_type": "code",
   "execution_count": 177,
   "id": "5e4f4067",
   "metadata": {},
   "outputs": [
    {
     "name": "stdout",
     "output_type": "stream",
     "text": [
      "Fully Paid : Charged Off = 80.0 : 20.0\n"
     ]
    }
   ],
   "source": [
    "paid = (comp_loan_df['loan_status'] == \"Fully Paid\").sum()\n",
    "\n",
    "paid_pct = round(paid/len(comp_loan_df)*100, 0)\n",
    "\n",
    "defaulted = (comp_loan_df['loan_status'] == \"Charged Off\").sum()\n",
    "\n",
    "defaulted_pct = round(defaulted/len(comp_loan_df)*100, 0)\n",
    "\n",
    "print('Fully Paid : Charged Off = ' + str(paid_pct) + ' : ' + str(defaulted_pct))"
   ]
  },
  {
   "cell_type": "markdown",
   "id": "35b94123",
   "metadata": {},
   "source": [
    "# Column Selection for Modeling"
   ]
  },
  {
   "cell_type": "code",
   "execution_count": 178,
   "id": "e858d326",
   "metadata": {},
   "outputs": [],
   "source": [
    "# Many of the columns hold data that will not be available at the time a loan application is made, such as 'next_pymnt_date', so I'm using my intuition to keep only the columns that seem likely to be available at the application stage.\n",
    "\n",
    "app_columns = ['addr_state', 'annual_inc', 'annual_inc_joint', 'application_type', 'delinq_2yrs', 'delinq_amnt',\\\n",
    "               'desc', 'dti', 'dti_joint', 'earliest_cr_line', 'emp_title', 'fico_range_high', 'fico_range_low',\\\n",
    "              'home_ownership', 'id','inq_fi', 'inq_last_12m', 'inq_last_6mths', 'loan_amnt', \\\n",
    "              'mo_sin_old_il_acct', 'max_bal_bc', 'avg_cur_bal', 'bc_open_to_buy', 'bc_util', 'collections_12_mths_ex_med',\\\n",
    "              'mo_sin_old_rev_tl_op', 'mo_sin_rcnt_rev_tl_op', 'mo_sin_rcnt_tl', 'mort_acc', 'mths_since_last_delinq',\\\n",
    "               'mths_since_last_major_derog','mths_since_last_record','mths_since_rcnt_il','mths_since_recent_bc',\\\n",
    "               'mths_since_recent_bc_dlq','mths_since_recent_inq','mths_since_recent_revol_delinq', \\\n",
    "               'num_accts_ever_120_pd','num_actv_bc_tl','num_actv_rev_tl','num_bc_sats','num_bc_tl','num_il_tl',\\\n",
    "               'num_op_rev_tl','num_rev_accts','num_rev_tl_bal_gt_0','num_sats','num_tl_120dpd_2m','num_tl_30dpd',\\\n",
    "               'num_tl_90g_dpd_24m','num_tl_op_past_12m','open_acc','open_acc_6m','open_il_12m','open_il_24m',\\\n",
    "               'open_rv_12m','open_rv_24m','percent_bc_gt_75','pub_rec','pub_rec_bankruptcies',\\\n",
    "               'purpose', 'revol_bal','revol_util', 'tax_liens', 'tot_coll_amt','tot_cur_bal','tot_hi_cred_lim',\\\n",
    "               'total_acc','total_bal_ex_mort','total_bal_il','total_bc_limit', 'total_il_high_credit_limit', 'total_rev_hi_lim',\\\n",
    "              'verification_status','verification_status_joint','zip_code']\n",
    "\n",
    "# Create a new df that only includes above columns\n",
    "\n",
    "app_df = comp_loan_df[app_columns]"
   ]
  },
  {
   "cell_type": "code",
   "execution_count": 179,
   "id": "70942a0f",
   "metadata": {},
   "outputs": [
    {
     "name": "stdout",
     "output_type": "stream",
     "text": [
      "<class 'pandas.core.frame.DataFrame'>\n",
      "Int64Index: 1345310 entries, 0 to 2260697\n",
      "Data columns (total 76 columns):\n",
      " #   Column                          Non-Null Count    Dtype  \n",
      "---  ------                          --------------    -----  \n",
      " 0   addr_state                      1345310 non-null  object \n",
      " 1   annual_inc                      1345310 non-null  float64\n",
      " 2   annual_inc_joint                25800 non-null    float64\n",
      " 3   application_type                1345310 non-null  object \n",
      " 4   delinq_2yrs                     1345310 non-null  float64\n",
      " 5   delinq_amnt                     1345310 non-null  float64\n",
      " 6   desc                            123532 non-null   object \n",
      " 7   dti                             1344936 non-null  float64\n",
      " 8   dti_joint                       25797 non-null    float64\n",
      " 9   earliest_cr_line                1345310 non-null  object \n",
      " 10  emp_title                       1259525 non-null  object \n",
      " 11  fico_range_high                 1345310 non-null  float64\n",
      " 12  fico_range_low                  1345310 non-null  float64\n",
      " 13  home_ownership                  1345310 non-null  object \n",
      " 14  id                              1345310 non-null  object \n",
      " 15  inq_fi                          537598 non-null   float64\n",
      " 16  inq_last_12m                    537597 non-null   float64\n",
      " 17  inq_last_6mths                  1345309 non-null  float64\n",
      " 18  loan_amnt                       1345310 non-null  float64\n",
      " 19  mo_sin_old_il_acct              1239735 non-null  float64\n",
      " 20  max_bal_bc                      537598 non-null   float64\n",
      " 21  avg_cur_bal                     1277761 non-null  float64\n",
      " 22  bc_open_to_buy                  1284167 non-null  float64\n",
      " 23  bc_util                         1283398 non-null  float64\n",
      " 24  collections_12_mths_ex_med      1345254 non-null  float64\n",
      " 25  mo_sin_old_rev_tl_op            1277782 non-null  float64\n",
      " 26  mo_sin_rcnt_rev_tl_op           1277782 non-null  float64\n",
      " 27  mo_sin_rcnt_tl                  1277783 non-null  float64\n",
      " 28  mort_acc                        1298029 non-null  float64\n",
      " 29  mths_since_last_delinq          666567 non-null   float64\n",
      " 30  mths_since_last_major_derog     353750 non-null   float64\n",
      " 31  mths_since_last_record          228555 non-null   float64\n",
      " 32  mths_since_rcnt_il              523382 non-null   float64\n",
      " 33  mths_since_recent_bc            1285089 non-null  float64\n",
      " 34  mths_since_recent_bc_dlq        319020 non-null   float64\n",
      " 35  mths_since_recent_inq           1171239 non-null  float64\n",
      " 36  mths_since_recent_revol_delinq  449962 non-null   float64\n",
      " 37  num_accts_ever_120_pd           1277783 non-null  float64\n",
      " 38  num_actv_bc_tl                  1277783 non-null  float64\n",
      " 39  num_actv_rev_tl                 1277783 non-null  float64\n",
      " 40  num_bc_sats                     1289469 non-null  float64\n",
      " 41  num_bc_tl                       1277783 non-null  float64\n",
      " 42  num_il_tl                       1277783 non-null  float64\n",
      " 43  num_op_rev_tl                   1277783 non-null  float64\n",
      " 44  num_rev_accts                   1277782 non-null  float64\n",
      " 45  num_rev_tl_bal_gt_0             1277783 non-null  float64\n",
      " 46  num_sats                        1289469 non-null  float64\n",
      " 47  num_tl_120dpd_2m                1227909 non-null  float64\n",
      " 48  num_tl_30dpd                    1277783 non-null  float64\n",
      " 49  num_tl_90g_dpd_24m              1277783 non-null  float64\n",
      " 50  num_tl_op_past_12m              1277783 non-null  float64\n",
      " 51  open_acc                        1345310 non-null  float64\n",
      " 52  open_acc_6m                     537597 non-null   float64\n",
      " 53  open_il_12m                     537598 non-null   float64\n",
      " 54  open_il_24m                     537598 non-null   float64\n",
      " 55  open_rv_12m                     537598 non-null   float64\n",
      " 56  open_rv_24m                     537598 non-null   float64\n",
      " 57  percent_bc_gt_75                1283755 non-null  float64\n",
      " 58  pub_rec                         1345310 non-null  float64\n",
      " 59  pub_rec_bankruptcies            1344613 non-null  float64\n",
      " 60  purpose                         1345310 non-null  object \n",
      " 61  revol_bal                       1345310 non-null  float64\n",
      " 62  revol_util                      1344453 non-null  float64\n",
      " 63  tax_liens                       1345271 non-null  float64\n",
      " 64  tot_coll_amt                    1277783 non-null  float64\n",
      " 65  tot_cur_bal                     1277783 non-null  float64\n",
      " 66  tot_hi_cred_lim                 1277783 non-null  float64\n",
      " 67  total_acc                       1345310 non-null  float64\n",
      " 68  total_bal_ex_mort               1298029 non-null  float64\n",
      " 69  total_bal_il                    537598 non-null   float64\n",
      " 70  total_bc_limit                  1298029 non-null  float64\n",
      " 71  total_il_high_credit_limit      1277783 non-null  float64\n",
      " 72  total_rev_hi_lim                1277783 non-null  float64\n",
      " 73  verification_status             1345310 non-null  object \n",
      " 74  verification_status_joint       25595 non-null    object \n",
      " 75  zip_code                        1345309 non-null  object \n",
      "dtypes: float64(65), object(11)\n",
      "memory usage: 790.3+ MB\n"
     ]
    }
   ],
   "source": [
    "app_df.info(verbose=True, show_counts=True)"
   ]
  },
  {
   "cell_type": "markdown",
   "id": "dad58266",
   "metadata": {},
   "source": [
    "# **Summarize Missing Value Stats by Column**"
   ]
  },
  {
   "cell_type": "markdown",
   "id": "98cd66e2",
   "metadata": {},
   "source": [
    "**First Organize missing values by column names into a Dictionary**"
   ]
  },
  {
   "cell_type": "code",
   "execution_count": 180,
   "id": "0de1db11",
   "metadata": {},
   "outputs": [],
   "source": [
    "#create a df with two columns: column names, # of missing value\n",
    "\n",
    "#create a list containing names of the columns first\n",
    "\n",
    "column_names = app_df.columns.tolist()\n",
    "\n",
    "# create a function that takes the list of column names and returns the number of missing values per column\n",
    "\n",
    "def count_missing_values(data, columns):\n",
    "    \"\"\"\n",
    "    Count the number of missing values in the specified columns of a DataFrame.\n",
    "    \n",
    "    Args:\n",
    "    data (pandas.DataFrame): The DataFrame containing the data.\n",
    "    columns (list of str): A list of column names to count missing values in.\n",
    "    \n",
    "    Returns:\n",
    "    dict: A dictionary where keys are column names, and values are the counts of missing values.\n",
    "    \"\"\"\n",
    "    missing_counts = {}\n",
    "    \n",
    "    for column in column_names:\n",
    "        missing_count = data[column].isnull().sum()\n",
    "        missing_counts[column] = missing_count\n",
    "    \n",
    "    return missing_counts\n",
    "\n",
    "# run the function and store the resulting dict as missing_counts\n",
    "\n",
    "missing_counts = count_missing_values(app_df, column_names)\n"
   ]
  },
  {
   "cell_type": "markdown",
   "id": "f2eaa25c",
   "metadata": {},
   "source": [
    "**Vizualize columns with missing values**"
   ]
  },
  {
   "cell_type": "code",
   "execution_count": 181,
   "id": "62dc8907",
   "metadata": {},
   "outputs": [
    {
     "data": {
      "image/png": "[encoded data removed]",
      "text/plain": [
       "<Figure size 1000x3000 with 1 Axes>"
      ]
     },
     "metadata": {},
     "output_type": "display_data"
    }
   ],
   "source": [
    "\n",
    "# create bar plot sorted by number of missing values per column\n",
    "\n",
    "# Sort the dictionary by values in descending order\n",
    "missing_counts = dict(sorted(missing_counts.items(), key=lambda item: item[1], reverse=False))\n",
    "\n",
    "# remove columns with 0 missing data\n",
    "\n",
    "missing_counts = {key: value for key, value in missing_counts.items() if value > 0}\n",
    "\n",
    "# Extract the sorted keys and values\n",
    "columns = list(missing_counts.keys())\n",
    "counts = list(missing_counts.values())\n",
    "              \n",
    "# Creat a list of missing value %\n",
    "\n",
    "percents = []\n",
    "\n",
    "for number in counts:\n",
    "    percent = round(number/len(app_df['id'])*100, 2)\n",
    "    percents.append(percent)\n",
    "\n",
    "# Zip columns and percents\n",
    "\n",
    "missing_pct = dict(zip(columns, percents))\n",
    "\n",
    "#Sort by percents in descending order\n",
    "\n",
    "missing_pct = dict(sorted(missing_pct.items(), key=lambda item: item[1], reverse=False))\n",
    "\n",
    "# Remove 0 missing pct\n",
    "\n",
    "non0_missing_pct = {key: value for key, value in missing_pct.items() if value != 0}\n",
    "\n",
    "non0_missing_pct_columns = list(non0_missing_pct.keys())\n",
    "non0_missing_pct_counts = list(non0_missing_pct.values())\n",
    "\n",
    "# Create a bar plot\n",
    "plt.figure(figsize=(10, 30))  # Adjust the figure size if needed\n",
    "plt.barh(non0_missing_pct_columns, non0_missing_pct_counts, color='skyblue')\n",
    "\n",
    "# Add labels and title\n",
    "plt.xlabel('Missing Percent')\n",
    "plt.ylabel('Columns')\n",
    "plt.title('Bar Plot Sorted by Missing Percent')\n",
    "\n",
    "# Show the plot\n",
    "plt.show()\n",
    "\n"
   ]
  },
  {
   "cell_type": "markdown",
   "id": "23cca17e",
   "metadata": {},
   "source": [
    "**Notice there are sets of column name, each having the same amounts of missing values. This migth mean that the said columns may be related to each other and apply to the same loan 'id'.**\n",
    "\n",
    "Next I want to group the columns by the percentage of missing values, so that I can look at the relevant columns together."
   ]
  },
  {
   "cell_type": "code",
   "execution_count": 182,
   "id": "e73df615",
   "metadata": {},
   "outputs": [
    {
     "name": "stdout",
     "output_type": "stream",
     "text": [
      "  Columns  missing_pct\n",
      "0     dti         0.03\n",
      "\n",
      "                Columns  missing_pct\n",
      "1  pub_rec_bankruptcies         0.05\n",
      "\n",
      "      Columns  missing_pct\n",
      "2  revol_util         0.06\n",
      "\n",
      "             Columns  missing_pct\n",
      "5     total_bc_limit         3.51\n",
      "4  total_bal_ex_mort         3.51\n",
      "3           mort_acc         3.51\n",
      "\n",
      "       Columns  missing_pct\n",
      "7     num_sats         4.15\n",
      "6  num_bc_sats         4.15\n",
      "\n",
      "                Columns  missing_pct\n",
      "8  mths_since_recent_bc         4.48\n",
      "\n",
      "          Columns  missing_pct\n",
      "9  bc_open_to_buy         4.54\n",
      "\n",
      "             Columns  missing_pct\n",
      "10  percent_bc_gt_75         4.58\n",
      "\n",
      "    Columns  missing_pct\n",
      "11  bc_util          4.6\n",
      "\n",
      "                       Columns  missing_pct\n",
      "28        mo_sin_old_rev_tl_op         5.02\n",
      "31                 avg_cur_bal         5.02\n",
      "30               num_rev_accts         5.02\n",
      "29       mo_sin_rcnt_rev_tl_op         5.02\n",
      "27            total_rev_hi_lim         5.02\n",
      "14              num_actv_bc_tl         5.02\n",
      "19         num_rev_tl_bal_gt_0         5.02\n",
      "12              mo_sin_rcnt_tl         5.02\n",
      "13       num_accts_ever_120_pd         5.02\n",
      "26  total_il_high_credit_limit         5.02\n",
      "16                   num_bc_tl         5.02\n",
      "17                   num_il_tl         5.02\n",
      "18               num_op_rev_tl         5.02\n",
      "15             num_actv_rev_tl         5.02\n",
      "20                num_tl_30dpd         5.02\n",
      "21          num_tl_90g_dpd_24m         5.02\n",
      "22          num_tl_op_past_12m         5.02\n",
      "23                tot_coll_amt         5.02\n",
      "24                 tot_cur_bal         5.02\n",
      "25             tot_hi_cred_lim         5.02\n",
      "\n",
      "      Columns  missing_pct\n",
      "32  emp_title         6.38\n",
      "\n",
      "               Columns  missing_pct\n",
      "33  mo_sin_old_il_acct         7.85\n",
      "\n",
      "             Columns  missing_pct\n",
      "34  num_tl_120dpd_2m         8.73\n",
      "\n",
      "                  Columns  missing_pct\n",
      "35  mths_since_recent_inq        12.94\n",
      "\n",
      "                   Columns  missing_pct\n",
      "36  mths_since_last_delinq        50.45\n",
      "\n",
      "         Columns  missing_pct\n",
      "41   open_rv_12m        60.04\n",
      "37        inq_fi        60.04\n",
      "38    max_bal_bc        60.04\n",
      "39   open_il_12m        60.04\n",
      "40   open_il_24m        60.04\n",
      "42   open_rv_24m        60.04\n",
      "43  total_bal_il        60.04\n",
      "44  inq_last_12m        60.04\n",
      "45   open_acc_6m        60.04\n",
      "\n",
      "               Columns  missing_pct\n",
      "46  mths_since_rcnt_il         61.1\n",
      "\n",
      "                           Columns  missing_pct\n",
      "47  mths_since_recent_revol_delinq        66.55\n",
      "\n",
      "                        Columns  missing_pct\n",
      "48  mths_since_last_major_derog         73.7\n",
      "\n",
      "                     Columns  missing_pct\n",
      "49  mths_since_recent_bc_dlq        76.29\n",
      "\n",
      "                   Columns  missing_pct\n",
      "50  mths_since_last_record        83.01\n",
      "\n",
      "   Columns  missing_pct\n",
      "51    desc        90.82\n",
      "\n",
      "             Columns  missing_pct\n",
      "53         dti_joint        98.08\n",
      "52  annual_inc_joint        98.08\n",
      "\n",
      "                      Columns  missing_pct\n",
      "54  verification_status_joint         98.1\n",
      "\n"
     ]
    }
   ],
   "source": [
    "missing_pct_df = pd.DataFrame.from_dict(non0_missing_pct, orient='index', columns=['missing_pct']).reset_index()\n",
    "missing_pct_df.columns = ['Columns', 'missing_pct']\n",
    "\n",
    "missing_pct_df = missing_pct_df.sort_values(by='missing_pct', ascending=False)\n",
    "\n",
    "# Group the DataFrame by unique values in the 'missing_pct' column\n",
    "grouped = missing_pct_df.groupby('missing_pct')\n",
    "\n",
    "# Iterate through the groups and display them\n",
    "for missing_pct, group in grouped:\n",
    "    print(group)\n",
    "    print()\n"
   ]
  },
  {
   "cell_type": "markdown",
   "id": "598de972",
   "metadata": {},
   "source": [
    "# Investigating Missing Value Columns (most missing to least missing)"
   ]
  },
  {
   "cell_type": "code",
   "execution_count": 183,
   "id": "22d20dd5",
   "metadata": {},
   "outputs": [
    {
     "name": "stdout",
     "output_type": "stream",
     "text": [
      "[nan 'Not Verified' 'Verified' 'Source Verified']\n",
      "Null value in 1319715 records\n"
     ]
    }
   ],
   "source": [
    "# verification_status_joint\n",
    "\n",
    "print(app_df['verification_status_joint'].unique())\n",
    "\n",
    "print('Null value in ' + str(app_df['verification_status_joint'].isnull().sum()) + ' records') "
   ]
  },
  {
   "cell_type": "code",
   "execution_count": 184,
   "id": "9f39c48b",
   "metadata": {},
   "outputs": [
    {
     "name": "stdout",
     "output_type": "stream",
     "text": [
      "['Individual' 'Joint App']\n",
      "Null value in 0 records\n",
      "There are 1319510 non-Joint Applications.\n"
     ]
    }
   ],
   "source": [
    "# maybe NAN occurs only for loans not applied jointly\n",
    "\n",
    "# Explore application_type\n",
    "\n",
    "print(app_df['application_type'].unique())\n",
    "\n",
    "print('Null value in ' + str(app_df['application_type'].isnull().sum()) + ' records') \n",
    "\n",
    "print('There are '+ str((app_df['application_type'] != 'Joint App').sum()) +' non-Joint Applications.')\n"
   ]
  },
  {
   "cell_type": "code",
   "execution_count": 185,
   "id": "b4f9e640",
   "metadata": {},
   "outputs": [
    {
     "name": "stdout",
     "output_type": "stream",
     "text": [
      "1319510\n",
      "99.98446634311196\n"
     ]
    }
   ],
   "source": [
    "# the number of non joint apps closely match number of 'nan' in 'verification_status_joint'. Let's check id overlap.\n",
    "\n",
    "vsj_nan = set(app_df.loc[app_df['verification_status_joint'].isnull(), 'id'])\n",
    "\n",
    "apptype_notjoint = set(app_df.loc[app_df['application_type'] != 'Joint App', 'id'])\n",
    "\n",
    "intersection_set = vsj_nan.intersection(apptype_notjoint)\n",
    "\n",
    "print(len(intersection_set))\n",
    "\n",
    "print(len(intersection_set)/(app_df['verification_status_joint'].isnull().sum())*100)\n",
    "\n",
    "#99.98% of nan values in 'Verification_status_joint' can indeed be explained by those apps not being joint applications.\n",
    "\n"
   ]
  },
  {
   "cell_type": "code",
   "execution_count": 186,
   "id": "8bfe2d74",
   "metadata": {},
   "outputs": [
    {
     "name": "stdout",
     "output_type": "stream",
     "text": [
      "0\n"
     ]
    }
   ],
   "source": [
    "# impute these with 'Not Joint App'\n",
    "\n",
    "# create a copy of app_df, app_imp, which will hold new df with imputed data and impute\n",
    "\n",
    "app_imp = app_df.copy()\n",
    "\n",
    "app_imp['verification_status_joint'].fillna('Not Joint App', inplace=True)\n",
    "\n",
    "print(app_imp['verification_status_joint'].isna().sum())"
   ]
  },
  {
   "cell_type": "code",
   "execution_count": 187,
   "id": "1144b32b",
   "metadata": {},
   "outputs": [],
   "source": [
    "# annual_inc_joint and dti_joint can likely be explained in the same way as above.\n",
    "\n",
    "# impute zero using a new function\n",
    "\n",
    "def zero_impute(column_name):\n",
    "    app_imp[column_name].fillna(0, inplace=True)\n",
    "    \n",
    "zero_impute('annual_inc_joint')\n",
    "zero_impute('dti_joint')"
   ]
  },
  {
   "cell_type": "code",
   "execution_count": 188,
   "id": "54f70211",
   "metadata": {},
   "outputs": [
    {
     "name": "stdout",
     "output_type": "stream",
     "text": [
      "0\n",
      "0\n"
     ]
    }
   ],
   "source": [
    "# check imputation\n",
    "\n",
    "print(app_imp['annual_inc_joint'].isna().sum())\n",
    "print(app_imp['dti_joint'].isna().sum())"
   ]
  },
  {
   "cell_type": "code",
   "execution_count": 189,
   "id": "36ea4af2",
   "metadata": {},
   "outputs": [],
   "source": [
    "# desc is missing 90% of the time, and it's a self reported field by the borrower. Dropping this.\n",
    "\n",
    "app_imp = app_imp.drop('desc', axis=1)\n"
   ]
  },
  {
   "cell_type": "code",
   "execution_count": 190,
   "id": "1b817f57",
   "metadata": {},
   "outputs": [
    {
     "name": "stdout",
     "output_type": "stream",
     "text": [
      "The number of months since the last public record.\n"
     ]
    }
   ],
   "source": [
    "# 'mths_since_last_record' missing 82.98%\n",
    "\n",
    "# write a dictionary function to query easily\n",
    "\n",
    "def define(column_name):\n",
    "    try:\n",
    "        description = data_dictionary.loc[data_dictionary['LoanStatNew'] == column_name, 'Description'].values[0]\n",
    "        return description\n",
    "    except IndexError:\n",
    "        return \"Description not found for the given column name.\"\n",
    "\n",
    "print(define('mths_since_last_record'))"
   ]
  },
  {
   "cell_type": "code",
   "execution_count": 191,
   "id": "74a6f37c",
   "metadata": {},
   "outputs": [
    {
     "data": {
      "text/plain": [
       "count    228555.000000\n",
       "mean         70.637120\n",
       "std          26.579224\n",
       "min           0.000000\n",
       "25%          53.000000\n",
       "50%          72.000000\n",
       "75%          90.000000\n",
       "max         129.000000\n",
       "Name: mths_since_last_record, dtype: float64"
      ]
     },
     "execution_count": 191,
     "metadata": {},
     "output_type": "execute_result"
    }
   ],
   "source": [
    "app_imp['mths_since_last_record'].describe()"
   ]
  },
  {
   "cell_type": "code",
   "execution_count": 192,
   "id": "63c16dcd",
   "metadata": {},
   "outputs": [],
   "source": [
    "#It seems plausible that ~83% of applicants didn't have any public record ever. May impute these Nulls with a value much larger than max value here.\n",
    "\n",
    "# Imputing these with 999 months (83.25 years) to signify that these applicants never had public records against them.\n",
    "\n",
    "app_imp['mths_since_last_record'].fillna(999, inplace=True)"
   ]
  },
  {
   "cell_type": "code",
   "execution_count": 193,
   "id": "9f4a4e93",
   "metadata": {},
   "outputs": [
    {
     "name": "stdout",
     "output_type": "stream",
     "text": [
      "count    523382.000000\n",
      "mean         19.592967\n",
      "std          24.871717\n",
      "min           0.000000\n",
      "25%           6.000000\n",
      "50%          12.000000\n",
      "75%          22.000000\n",
      "max         511.000000\n",
      "Name: mths_since_rcnt_il, dtype: float64\n",
      "count    449962.000000\n",
      "mean         35.804695\n",
      "std          22.428202\n",
      "min           0.000000\n",
      "25%          17.000000\n",
      "50%          33.000000\n",
      "75%          52.000000\n",
      "max         202.000000\n",
      "Name: mths_since_recent_revol_delinq, dtype: float64\n",
      "count    353750.000000\n",
      "mean         43.701165\n",
      "std          21.378476\n",
      "min           0.000000\n",
      "25%          27.000000\n",
      "50%          44.000000\n",
      "75%          61.000000\n",
      "max         226.000000\n",
      "Name: mths_since_last_major_derog, dtype: float64\n",
      "count    319020.000000\n",
      "mean         39.652617\n",
      "std          22.698164\n",
      "min           0.000000\n",
      "25%          21.000000\n",
      "50%          38.000000\n",
      "75%          58.000000\n",
      "max         202.000000\n",
      "Name: mths_since_recent_bc_dlq, dtype: float64\n",
      "count    1.171239e+06\n",
      "mean     6.713209e+00\n",
      "std      5.849949e+00\n",
      "min      0.000000e+00\n",
      "25%      2.000000e+00\n",
      "50%      5.000000e+00\n",
      "75%      1.000000e+01\n",
      "max      2.500000e+01\n",
      "Name: mths_since_recent_inq, dtype: float64\n",
      "count    666567.000000\n",
      "mean         34.312069\n",
      "std          21.919162\n",
      "min           0.000000\n",
      "25%          16.000000\n",
      "50%          31.000000\n",
      "75%          50.000000\n",
      "max         226.000000\n",
      "Name: mths_since_last_delinq, dtype: float64\n",
      "count    1.239735e+06\n",
      "mean     1.257976e+02\n",
      "std      5.223336e+01\n",
      "min      0.000000e+00\n",
      "25%      9.800000e+01\n",
      "50%      1.290000e+02\n",
      "75%      1.520000e+02\n",
      "max      9.990000e+02\n",
      "Name: mo_sin_old_il_acct, dtype: float64\n"
     ]
    }
   ],
   "source": [
    "# Same thought as above for other missing value columns that start with \"mths since\" negative credit events\n",
    "\n",
    "mths = ['mths_since_rcnt_il','mths_since_recent_revol_delinq','mths_since_last_major_derog','mths_since_recent_bc_dlq',\\\n",
    "       'mths_since_recent_inq', 'mths_since_last_delinq','mo_sin_old_il_acct']\n",
    "\n",
    "for column in mths:\n",
    "    print(app_imp[column].describe())"
   ]
  },
  {
   "cell_type": "code",
   "execution_count": 194,
   "id": "95fad6e6",
   "metadata": {},
   "outputs": [
    {
     "name": "stdout",
     "output_type": "stream",
     "text": [
      "missing in mths_since_rcnt_il : 0\n",
      "missing in mths_since_recent_revol_delinq : 0\n",
      "missing in mths_since_last_major_derog : 0\n",
      "missing in mths_since_recent_bc_dlq : 0\n",
      "missing in mths_since_recent_inq : 0\n",
      "missing in mths_since_last_delinq : 0\n",
      "missing in mo_sin_old_il_acct : 0\n"
     ]
    }
   ],
   "source": [
    "# looks like the original dataset was imputed with 999 too. Making that the default for nan values in months_since columns.\n",
    "\n",
    "def mths_impute(column):\n",
    "    app_imp[column].fillna(999, inplace=True)\n",
    "    \n",
    "for column in mths:\n",
    "    mths_impute(column)\n",
    "\n",
    "for column in mths:\n",
    "    print(\"missing in \" + column + \" : \"+ str(app_imp[column].isna().sum()))"
   ]
  },
  {
   "cell_type": "code",
   "execution_count": 195,
   "id": "2075fb07",
   "metadata": {},
   "outputs": [
    {
     "name": "stdout",
     "output_type": "stream",
     "text": [
      "max value in mths_since_rcnt_il : 999.0\n",
      "max value in mths_since_recent_revol_delinq : 999.0\n",
      "max value in mths_since_last_major_derog : 999.0\n",
      "max value in mths_since_recent_bc_dlq : 999.0\n",
      "max value in mths_since_recent_inq : 999.0\n",
      "max value in mths_since_last_delinq : 999.0\n",
      "max value in mo_sin_old_il_acct : 999.0\n"
     ]
    }
   ],
   "source": [
    "for column in mths:\n",
    "    print(\"max value in \" + column + \" : \"+ str(app_imp[column].max()))"
   ]
  },
  {
   "cell_type": "code",
   "execution_count": 196,
   "id": "866d0c79",
   "metadata": {},
   "outputs": [
    {
     "name": "stdout",
     "output_type": "stream",
     "text": [
      "41     open_rv_12m\n",
      "37          inq_fi\n",
      "38      max_bal_bc\n",
      "39     open_il_12m\n",
      "40     open_il_24m\n",
      "42     open_rv_24m\n",
      "43    total_bal_il\n",
      "44    inq_last_12m\n",
      "45     open_acc_6m\n",
      "Name: Columns, dtype: object\n"
     ]
    }
   ],
   "source": [
    "# several columns missing identical 60.12% of vlaues\n",
    "\n",
    "missing_60 = (missing_pct_df.loc[missing_pct_df['missing_pct'] == 60.04, 'Columns'])\n",
    "\n",
    "print(missing_60)\n"
   ]
  },
  {
   "cell_type": "code",
   "execution_count": 197,
   "id": "a030f90b",
   "metadata": {},
   "outputs": [
    {
     "name": "stdout",
     "output_type": "stream",
     "text": [
      "count    537598.000000\n",
      "mean          1.420885\n",
      "std           1.574845\n",
      "min           0.000000\n",
      "25%           0.000000\n",
      "50%           1.000000\n",
      "75%           2.000000\n",
      "max          28.000000\n",
      "Name: open_rv_12m, dtype: float64\n",
      "count    537598.000000\n",
      "mean          1.093306\n",
      "std           1.586263\n",
      "min           0.000000\n",
      "25%           0.000000\n",
      "50%           1.000000\n",
      "75%           2.000000\n",
      "max          48.000000\n",
      "Name: inq_fi, dtype: float64\n",
      "count    537598.000000\n",
      "mean       5537.703496\n",
      "std        5471.949360\n",
      "min           0.000000\n",
      "25%        2180.000000\n",
      "50%        4201.000000\n",
      "75%        7198.750000\n",
      "max      776843.000000\n",
      "Name: max_bal_bc, dtype: float64\n",
      "count    537598.000000\n",
      "mean          0.776366\n",
      "std           0.993202\n",
      "min           0.000000\n",
      "25%           0.000000\n",
      "50%           1.000000\n",
      "75%           1.000000\n",
      "max          25.000000\n",
      "Name: open_il_12m, dtype: float64\n",
      "count    537598.000000\n",
      "mean          1.742754\n",
      "std           1.685722\n",
      "min           0.000000\n",
      "25%           1.000000\n",
      "50%           1.000000\n",
      "75%           2.000000\n",
      "max          51.000000\n",
      "Name: open_il_24m, dtype: float64\n",
      "count    537598.000000\n",
      "mean          3.005071\n",
      "std           2.701468\n",
      "min           0.000000\n",
      "25%           1.000000\n",
      "50%           2.000000\n",
      "75%           4.000000\n",
      "max          53.000000\n",
      "Name: open_rv_24m, dtype: float64\n",
      "count    5.375980e+05\n",
      "mean     3.586201e+04\n",
      "std      4.290663e+04\n",
      "min      0.000000e+00\n",
      "25%      9.605000e+03\n",
      "50%      2.406200e+04\n",
      "75%      4.672475e+04\n",
      "max      1.711009e+06\n",
      "Name: total_bal_il, dtype: float64\n",
      "count    537597.000000\n",
      "mean          2.312381\n",
      "std           2.542073\n",
      "min           0.000000\n",
      "25%           1.000000\n",
      "50%           2.000000\n",
      "75%           3.000000\n",
      "max          67.000000\n",
      "Name: inq_last_12m, dtype: float64\n",
      "count    537597.000000\n",
      "mean          1.050562\n",
      "std           1.208835\n",
      "min           0.000000\n",
      "25%           0.000000\n",
      "50%           1.000000\n",
      "75%           2.000000\n",
      "max          18.000000\n",
      "Name: open_acc_6m, dtype: float64\n"
     ]
    }
   ],
   "source": [
    "for column in missing_60:\n",
    "    print(app_imp[column].describe())"
   ]
  },
  {
   "cell_type": "code",
   "execution_count": 198,
   "id": "5c387b0e",
   "metadata": {},
   "outputs": [],
   "source": [
    "# These seem to be related attributes about number of installment and revolving credit accounts and associate credit inquiries and credit balance\n",
    "\n",
    "# Nulls in these can be imputed with 0\n",
    "\n",
    "for column in missing_60:\n",
    "    zero_impute(column)"
   ]
  },
  {
   "cell_type": "code",
   "execution_count": 199,
   "id": "acbb9ce0",
   "metadata": {},
   "outputs": [
    {
     "name": "stdout",
     "output_type": "stream",
     "text": [
      "open_rv_12m : 0\n",
      "inq_fi : 0\n",
      "max_bal_bc : 0\n",
      "open_il_12m : 0\n",
      "open_il_24m : 0\n",
      "open_rv_24m : 0\n",
      "total_bal_il : 0\n",
      "inq_last_12m : 0\n",
      "open_acc_6m : 0\n"
     ]
    }
   ],
   "source": [
    "# Check if any columns in missing_60 are still missing any values\n",
    "\n",
    "def count_nan(column_name):\n",
    "    print(column_name + ' : ' + str(app_imp[column_name].isna().sum()))\n",
    "\n",
    "for column in missing_60:\n",
    "    count_nan(column)\n",
    "\n"
   ]
  },
  {
   "cell_type": "code",
   "execution_count": 200,
   "id": "adf54ff7",
   "metadata": {},
   "outputs": [
    {
     "name": "stdout",
     "output_type": "stream",
     "text": [
      "Number of accounts currently 120 days past due (updated in past 2 months)\n",
      "[ 0. nan  1.  2.  6.  3.  4.]\n",
      "count    1.227909e+06\n",
      "mean     8.200933e-04\n",
      "std      3.049884e-02\n",
      "min      0.000000e+00\n",
      "25%      0.000000e+00\n",
      "50%      0.000000e+00\n",
      "75%      0.000000e+00\n",
      "max      6.000000e+00\n",
      "Name: num_tl_120dpd_2m, dtype: float64\n"
     ]
    }
   ],
   "source": [
    "#num_tl_120dpd_2m missing 8.73%\n",
    "\n",
    "print(define('num_tl_120dpd_2m'))\n",
    "\n",
    "print(app_df['num_tl_120dpd_2m'].unique())\n",
    "\n",
    "print(app_df['num_tl_120dpd_2m'].describe())"
   ]
  },
  {
   "cell_type": "code",
   "execution_count": 201,
   "id": "eaeafde1",
   "metadata": {},
   "outputs": [
    {
     "name": "stdout",
     "output_type": "stream",
     "text": [
      "[0. 1. 2. 6. 3. 4.]\n"
     ]
    }
   ],
   "source": [
    "#impute nan with 0 as mode\n",
    "\n",
    "zero_impute('num_tl_120dpd_2m')\n",
    "\n",
    "print(app_imp['num_tl_120dpd_2m'].unique())\n"
   ]
  },
  {
   "cell_type": "code",
   "execution_count": 202,
   "id": "5f9b096d",
   "metadata": {},
   "outputs": [
    {
     "name": "stdout",
     "output_type": "stream",
     "text": [
      "emp_title : 0\n"
     ]
    }
   ],
   "source": [
    "# emp_title missing 6.38%. Impute 'Unknown' for nan\n",
    "\n",
    "app_imp['emp_title'].fillna('Unknown', inplace=True)\n",
    "\n",
    "count_nan('emp_title')"
   ]
  },
  {
   "cell_type": "code",
   "execution_count": 203,
   "id": "50460ab9",
   "metadata": {},
   "outputs": [
    {
     "name": "stdout",
     "output_type": "stream",
     "text": [
      "['inq_last_6mths', 'zip_code', 'tax_liens', 'collections_12_mths_ex_med', 'dti', 'pub_rec_bankruptcies', 'revol_util', 'mort_acc', 'total_bal_ex_mort', 'total_bc_limit', 'num_bc_sats', 'num_sats', 'mths_since_recent_bc', 'bc_open_to_buy', 'percent_bc_gt_75', 'bc_util', 'mo_sin_rcnt_tl', 'num_accts_ever_120_pd', 'num_actv_bc_tl', 'num_actv_rev_tl', 'num_bc_tl', 'num_il_tl', 'num_op_rev_tl', 'num_rev_tl_bal_gt_0', 'num_tl_30dpd', 'num_tl_90g_dpd_24m', 'num_tl_op_past_12m', 'tot_coll_amt', 'tot_cur_bal', 'tot_hi_cred_lim', 'total_il_high_credit_limit', 'total_rev_hi_lim', 'mo_sin_old_rev_tl_op', 'mo_sin_rcnt_rev_tl_op', 'num_rev_accts', 'avg_cur_bal', 'emp_title', 'mo_sin_old_il_acct', 'num_tl_120dpd_2m', 'mths_since_recent_inq', 'mths_since_last_delinq', 'inq_fi', 'max_bal_bc', 'open_il_12m', 'open_il_24m', 'open_rv_12m', 'open_rv_24m', 'total_bal_il', 'inq_last_12m', 'open_acc_6m', 'mths_since_rcnt_il', 'mths_since_recent_revol_delinq', 'mths_since_last_major_derog', 'mths_since_recent_bc_dlq', 'mths_since_last_record', 'desc', 'annual_inc_joint', 'dti_joint', 'verification_status_joint']\n"
     ]
    }
   ],
   "source": [
    "# A bunch of columns are missing 5.02% of records. Likely related to each other\n",
    "\n",
    "missing_5 = missing_pct_df.loc[missing_pct_df['missing_pct']== 5.02, 'Columns']\n",
    "\n",
    "print(columns)"
   ]
  },
  {
   "cell_type": "code",
   "execution_count": 204,
   "id": "a3391226",
   "metadata": {},
   "outputs": [
    {
     "name": "stdout",
     "output_type": "stream",
     "text": [
      "mo_sin_old_rev_tl_op: Months since oldest revolving account opened\n",
      "avg_cur_bal: Average current balance of all accounts\n",
      "num_rev_accts: Number of revolving accounts\n",
      "mo_sin_rcnt_rev_tl_op: Months since most recent revolving account opened\n",
      "total_rev_hi_lim: Description not found for the given column name.\n",
      "num_actv_bc_tl: Number of currently active bankcard accounts\n",
      "num_rev_tl_bal_gt_0: Number of revolving trades with balance >0\n",
      "mo_sin_rcnt_tl: Months since most recent account opened\n",
      "num_accts_ever_120_pd: Number of accounts ever 120 or more days past due\n",
      "total_il_high_credit_limit: Total installment high credit/credit limit\n",
      "num_bc_tl: Number of bankcard accounts\n",
      "num_il_tl: Number of installment accounts\n",
      "num_op_rev_tl: Number of open revolving accounts\n",
      "num_actv_rev_tl: Number of currently active revolving trades\n",
      "num_tl_30dpd: Number of accounts currently 30 days past due (updated in past 2 months)\n",
      "num_tl_90g_dpd_24m: Number of accounts 90 or more days past due in last 24 months\n",
      "num_tl_op_past_12m: Number of accounts opened in past 12 months\n",
      "tot_coll_amt: Total collection amounts ever owed\n",
      "tot_cur_bal: Total current balance of all accounts\n",
      "tot_hi_cred_lim: Total high credit/credit limit\n"
     ]
    }
   ],
   "source": [
    "for column in missing_5:\n",
    "    print(column + ': '+ define(column))\n",
    "\n",
    "# They all seem to be columns related to applicants open account information reported in their credit report\n"
   ]
  },
  {
   "cell_type": "code",
   "execution_count": 205,
   "id": "ea416d67",
   "metadata": {},
   "outputs": [
    {
     "name": "stdout",
     "output_type": "stream",
     "text": [
      "Months since oldest revolving account opened\n",
      "count    1.277782e+06\n",
      "mean     1.814760e+02\n",
      "std      9.450512e+01\n",
      "min      2.000000e+00\n",
      "25%      1.170000e+02\n",
      "50%      1.640000e+02\n",
      "75%      2.300000e+02\n",
      "max      8.520000e+02\n",
      "Name: mo_sin_old_rev_tl_op, dtype: float64\n",
      "Average current balance of all accounts\n",
      "count    1.277761e+06\n",
      "mean     1.348861e+04\n",
      "std      1.628970e+04\n",
      "min      0.000000e+00\n",
      "25%      3.101000e+03\n",
      "50%      7.407000e+03\n",
      "75%      1.871700e+04\n",
      "max      9.580840e+05\n",
      "Name: avg_cur_bal, dtype: float64\n",
      "Number of revolving accounts\n",
      "count    1.277782e+06\n",
      "mean     1.461034e+01\n",
      "std      8.119309e+00\n",
      "min      0.000000e+00\n",
      "25%      9.000000e+00\n",
      "50%      1.300000e+01\n",
      "75%      1.900000e+01\n",
      "max      1.280000e+02\n",
      "Name: num_rev_accts, dtype: float64\n",
      "Months since most recent revolving account opened\n",
      "count    1.277782e+06\n",
      "mean     1.311569e+01\n",
      "std      1.634105e+01\n",
      "min      0.000000e+00\n",
      "25%      4.000000e+00\n",
      "50%      8.000000e+00\n",
      "75%      1.600000e+01\n",
      "max      4.380000e+02\n",
      "Name: mo_sin_rcnt_rev_tl_op, dtype: float64\n",
      "Description not found for the given column name.\n",
      "count    1.277783e+06\n",
      "mean     3.279094e+04\n",
      "std      3.664259e+04\n",
      "min      0.000000e+00\n",
      "25%      1.400000e+04\n",
      "50%      2.410000e+04\n",
      "75%      4.060000e+04\n",
      "max      9.999999e+06\n",
      "Name: total_rev_hi_lim, dtype: float64\n",
      "Number of currently active bankcard accounts\n",
      "count    1.277783e+06\n",
      "mean     3.642732e+00\n",
      "std      2.248239e+00\n",
      "min      0.000000e+00\n",
      "25%      2.000000e+00\n",
      "50%      3.000000e+00\n",
      "75%      5.000000e+00\n",
      "max      3.500000e+01\n",
      "Name: num_actv_bc_tl, dtype: float64\n",
      "Number of revolving trades with balance >0\n",
      "count    1.277783e+06\n",
      "mean     5.592656e+00\n",
      "std      3.215269e+00\n",
      "min      0.000000e+00\n",
      "25%      3.000000e+00\n",
      "50%      5.000000e+00\n",
      "75%      7.000000e+00\n",
      "max      4.500000e+01\n",
      "Name: num_rev_tl_bal_gt_0, dtype: float64\n",
      "Months since most recent account opened\n",
      "count    1.277783e+06\n",
      "mean     7.854752e+00\n",
      "std      8.728983e+00\n",
      "min      0.000000e+00\n",
      "25%      3.000000e+00\n",
      "50%      5.000000e+00\n",
      "75%      1.000000e+01\n",
      "max      3.140000e+02\n",
      "Name: mo_sin_rcnt_tl, dtype: float64\n",
      "Number of accounts ever 120 or more days past due\n",
      "count    1.277783e+06\n",
      "mean     5.095740e-01\n",
      "std      1.325589e+00\n",
      "min      0.000000e+00\n",
      "25%      0.000000e+00\n",
      "50%      0.000000e+00\n",
      "75%      0.000000e+00\n",
      "max      5.100000e+01\n",
      "Name: num_accts_ever_120_pd, dtype: float64\n",
      "Total installment high credit/credit limit\n",
      "count    1.277783e+06\n",
      "mean     4.213319e+04\n",
      "std      4.325213e+04\n",
      "min      0.000000e+00\n",
      "25%      1.473800e+04\n",
      "50%      3.168100e+04\n",
      "75%      5.663500e+04\n",
      "max      2.101913e+06\n",
      "Name: total_il_high_credit_limit, dtype: float64\n",
      "Number of bankcard accounts\n",
      "count    1.277783e+06\n",
      "mean     8.101105e+00\n",
      "std      4.800886e+00\n",
      "min      0.000000e+00\n",
      "25%      5.000000e+00\n",
      "50%      7.000000e+00\n",
      "75%      1.100000e+01\n",
      "max      7.000000e+01\n",
      "Name: num_bc_tl, dtype: float64\n",
      "Number of installment accounts\n",
      "count    1.277783e+06\n",
      "mean     8.567891e+00\n",
      "std      7.386538e+00\n",
      "min      0.000000e+00\n",
      "25%      4.000000e+00\n",
      "50%      7.000000e+00\n",
      "75%      1.100000e+01\n",
      "max      1.590000e+02\n",
      "Name: num_il_tl, dtype: float64\n",
      "Number of open revolving accounts\n",
      "count    1.277783e+06\n",
      "mean     8.278851e+00\n",
      "std      4.557968e+00\n",
      "min      0.000000e+00\n",
      "25%      5.000000e+00\n",
      "50%      7.000000e+00\n",
      "75%      1.000000e+01\n",
      "max      8.300000e+01\n",
      "Name: num_op_rev_tl, dtype: float64\n",
      "Number of currently active revolving trades\n",
      "count    1.277783e+06\n",
      "mean     5.643482e+00\n",
      "std      3.301790e+00\n",
      "min      0.000000e+00\n",
      "25%      3.000000e+00\n",
      "50%      5.000000e+00\n",
      "75%      7.000000e+00\n",
      "max      6.300000e+01\n",
      "Name: num_actv_rev_tl, dtype: float64\n",
      "Number of accounts currently 30 days past due (updated in past 2 months)\n",
      "count    1.277783e+06\n",
      "mean     3.418421e-03\n",
      "std      6.234788e-02\n",
      "min      0.000000e+00\n",
      "25%      0.000000e+00\n",
      "50%      0.000000e+00\n",
      "75%      0.000000e+00\n",
      "max      4.000000e+00\n",
      "Name: num_tl_30dpd, dtype: float64\n",
      "Number of accounts 90 or more days past due in last 24 months\n",
      "count    1.277783e+06\n",
      "mean     8.888364e-02\n",
      "std      5.040854e-01\n",
      "min      0.000000e+00\n",
      "25%      0.000000e+00\n",
      "50%      0.000000e+00\n",
      "75%      0.000000e+00\n",
      "max      3.900000e+01\n",
      "Name: num_tl_90g_dpd_24m, dtype: float64\n",
      "Number of accounts opened in past 12 months\n",
      "count    1.277783e+06\n",
      "mean     2.178887e+00\n",
      "std      1.845039e+00\n",
      "min      0.000000e+00\n",
      "25%      1.000000e+00\n",
      "50%      2.000000e+00\n",
      "75%      3.000000e+00\n",
      "max      3.200000e+01\n",
      "Name: num_tl_op_past_12m, dtype: float64\n",
      "Total collection amounts ever owed\n",
      "count    1.277783e+06\n",
      "mean     2.493859e+02\n",
      "std      1.106497e+04\n",
      "min      0.000000e+00\n",
      "25%      0.000000e+00\n",
      "50%      0.000000e+00\n",
      "75%      0.000000e+00\n",
      "max      9.152545e+06\n",
      "Name: tot_coll_amt, dtype: float64\n",
      "Total current balance of all accounts\n",
      "count    1.277783e+06\n",
      "mean     1.411338e+05\n",
      "std      1.575478e+05\n",
      "min      0.000000e+00\n",
      "25%      2.942300e+04\n",
      "50%      8.023100e+04\n",
      "75%      2.107150e+05\n",
      "max      8.000078e+06\n",
      "Name: tot_cur_bal, dtype: float64\n",
      "Total high credit/credit limit\n",
      "count    1.277783e+06\n",
      "mean     1.743878e+05\n",
      "std      1.780961e+05\n",
      "min      0.000000e+00\n",
      "25%      4.962050e+04\n",
      "50%      1.123730e+05\n",
      "75%      2.520760e+05\n",
      "max      9.999999e+06\n",
      "Name: tot_hi_cred_lim, dtype: float64\n"
     ]
    }
   ],
   "source": [
    "for column in missing_5:\n",
    "    print(define(column))\n",
    "    print(app_imp[column].describe())"
   ]
  },
  {
   "cell_type": "code",
   "execution_count": 206,
   "id": "8873de41",
   "metadata": {},
   "outputs": [
    {
     "name": "stdout",
     "output_type": "stream",
     "text": [
      "['mo_sin_old_rev_tl_op', 'mo_sin_rcnt_rev_tl_op', 'mo_sin_rcnt_tl']\n"
     ]
    }
   ],
   "source": [
    "# Months_since columns can be imputed with 999 again\n",
    "\n",
    "# separate missing_5 columns by months_since types and the rest\n",
    "\n",
    "missing_5_mths = [item for item in missing_5 if \"mo_sin\" in item]\n",
    "\n",
    "print(missing_5_mths)\n",
    "    "
   ]
  },
  {
   "cell_type": "code",
   "execution_count": 207,
   "id": "99f4a8b2",
   "metadata": {},
   "outputs": [
    {
     "name": "stdout",
     "output_type": "stream",
     "text": [
      "missing in mo_sin_old_rev_tl_op: 0\n",
      "missing in mo_sin_rcnt_rev_tl_op: 0\n",
      "missing in mo_sin_rcnt_tl: 0\n"
     ]
    }
   ],
   "source": [
    "# impute these with 999 too\n",
    "\n",
    "for column in missing_5_mths:\n",
    "    mths_impute(column)\n",
    "    print('missing in ' + column + ': ' + str(app_imp[column].isna().sum()))"
   ]
  },
  {
   "cell_type": "code",
   "execution_count": 208,
   "id": "5853aff7",
   "metadata": {},
   "outputs": [
    {
     "name": "stdout",
     "output_type": "stream",
     "text": [
      "['num_rev_accts', 'num_actv_bc_tl', 'num_rev_tl_bal_gt_0', 'num_accts_ever_120_pd', 'num_bc_tl', 'num_il_tl', 'num_op_rev_tl', 'num_actv_rev_tl', 'num_tl_30dpd', 'num_tl_90g_dpd_24m', 'num_tl_op_past_12m']\n"
     ]
    }
   ],
   "source": [
    "# separate num_ types to impute with zeroes\n",
    "\n",
    "missing_5_num = [item for item in missing_5 if \"num_\" in item]\n",
    "\n",
    "print(missing_5_num)"
   ]
  },
  {
   "cell_type": "code",
   "execution_count": 209,
   "id": "ede2da33",
   "metadata": {},
   "outputs": [
    {
     "name": "stdout",
     "output_type": "stream",
     "text": [
      "missing in num_rev_accts: 0\n",
      "missing in num_actv_bc_tl: 0\n",
      "missing in num_rev_tl_bal_gt_0: 0\n",
      "missing in num_accts_ever_120_pd: 0\n",
      "missing in num_bc_tl: 0\n",
      "missing in num_il_tl: 0\n",
      "missing in num_op_rev_tl: 0\n",
      "missing in num_actv_rev_tl: 0\n",
      "missing in num_tl_30dpd: 0\n",
      "missing in num_tl_90g_dpd_24m: 0\n",
      "missing in num_tl_op_past_12m: 0\n"
     ]
    }
   ],
   "source": [
    "# zero impute\n",
    "\n",
    "for column in missing_5_num:\n",
    "    zero_impute(column)\n",
    "    print('missing in ' + column + ': ' + str(app_imp[column].isna().sum()))"
   ]
  },
  {
   "cell_type": "code",
   "execution_count": 210,
   "id": "347c63e3",
   "metadata": {},
   "outputs": [
    {
     "name": "stdout",
     "output_type": "stream",
     "text": [
      "['avg_cur_bal', 'tot_coll_amt', 'tot_cur_bal', 'tot_hi_cred_lim', 'total_il_high_credit_limit', 'total_rev_hi_lim']\n"
     ]
    }
   ],
   "source": [
    "# impute the rest of column types in missing_5\n",
    "\n",
    "missing_5_rest = sorted([item for item in missing_5 if item not in missing_5_num and item not in missing_5_mths])\n",
    "\n",
    "print(missing_5_rest)\n"
   ]
  },
  {
   "cell_type": "code",
   "execution_count": 211,
   "id": "5aee06d3",
   "metadata": {},
   "outputs": [
    {
     "name": "stdout",
     "output_type": "stream",
     "text": [
      "Average current balance of all accounts\n",
      "count    1.277761e+06\n",
      "mean     1.348861e+04\n",
      "std      1.628970e+04\n",
      "min      0.000000e+00\n",
      "25%      3.101000e+03\n",
      "50%      7.407000e+03\n",
      "75%      1.871700e+04\n",
      "max      9.580840e+05\n",
      "Name: avg_cur_bal, dtype: float64\n",
      "Total collection amounts ever owed\n",
      "count    1.277783e+06\n",
      "mean     2.493859e+02\n",
      "std      1.106497e+04\n",
      "min      0.000000e+00\n",
      "25%      0.000000e+00\n",
      "50%      0.000000e+00\n",
      "75%      0.000000e+00\n",
      "max      9.152545e+06\n",
      "Name: tot_coll_amt, dtype: float64\n",
      "Total current balance of all accounts\n",
      "count    1.277783e+06\n",
      "mean     1.411338e+05\n",
      "std      1.575478e+05\n",
      "min      0.000000e+00\n",
      "25%      2.942300e+04\n",
      "50%      8.023100e+04\n",
      "75%      2.107150e+05\n",
      "max      8.000078e+06\n",
      "Name: tot_cur_bal, dtype: float64\n",
      "Total high credit/credit limit\n",
      "count    1.277783e+06\n",
      "mean     1.743878e+05\n",
      "std      1.780961e+05\n",
      "min      0.000000e+00\n",
      "25%      4.962050e+04\n",
      "50%      1.123730e+05\n",
      "75%      2.520760e+05\n",
      "max      9.999999e+06\n",
      "Name: tot_hi_cred_lim, dtype: float64\n",
      "Total installment high credit/credit limit\n",
      "count    1.277783e+06\n",
      "mean     4.213319e+04\n",
      "std      4.325213e+04\n",
      "min      0.000000e+00\n",
      "25%      1.473800e+04\n",
      "50%      3.168100e+04\n",
      "75%      5.663500e+04\n",
      "max      2.101913e+06\n",
      "Name: total_il_high_credit_limit, dtype: float64\n",
      "Description not found for the given column name.\n",
      "count    1.277783e+06\n",
      "mean     3.279094e+04\n",
      "std      3.664259e+04\n",
      "min      0.000000e+00\n",
      "25%      1.400000e+04\n",
      "50%      2.410000e+04\n",
      "75%      4.060000e+04\n",
      "max      9.999999e+06\n",
      "Name: total_rev_hi_lim, dtype: float64\n"
     ]
    }
   ],
   "source": [
    "for column in missing_5_rest:\n",
    "    print(define(column))\n",
    "    print(app_imp[column].describe())"
   ]
  },
  {
   "cell_type": "code",
   "execution_count": 212,
   "id": "a2ad6acb",
   "metadata": {},
   "outputs": [
    {
     "name": "stdout",
     "output_type": "stream",
     "text": [
      "Missing in avg_cur_bal: 0\n",
      "Missing in tot_coll_amt: 0\n",
      "Missing in tot_cur_bal: 0\n",
      "Missing in tot_hi_cred_lim: 0\n",
      "Missing in total_il_high_credit_limit: 0\n",
      "Missing in total_rev_hi_lim: 0\n"
     ]
    }
   ],
   "source": [
    "# Zero impute seems reasonable\n",
    "\n",
    "for column in missing_5_rest:\n",
    "    zero_impute(column)\n",
    "    print('Missing in ' + column + ': ' + str(app_imp[column].isna().sum()))"
   ]
  },
  {
   "cell_type": "code",
   "execution_count": 213,
   "id": "b1c9bd5f",
   "metadata": {},
   "outputs": [
    {
     "data": {
      "text/plain": [
       "{'bc_util': 61912,\n",
       " 'percent_bc_gt_75': 61555,\n",
       " 'bc_open_to_buy': 61143,\n",
       " 'mths_since_recent_bc': 60221,\n",
       " 'num_bc_sats': 55841,\n",
       " 'num_sats': 55841,\n",
       " 'mort_acc': 47281,\n",
       " 'total_bal_ex_mort': 47281,\n",
       " 'total_bc_limit': 47281,\n",
       " 'revol_util': 857,\n",
       " 'pub_rec_bankruptcies': 697,\n",
       " 'dti': 374,\n",
       " 'collections_12_mths_ex_med': 56,\n",
       " 'tax_liens': 39,\n",
       " 'inq_last_6mths': 1,\n",
       " 'zip_code': 1}"
      ]
     },
     "execution_count": 213,
     "metadata": {},
     "output_type": "execute_result"
    }
   ],
   "source": [
    "# View remaining columns with missing values in app_imp\n",
    "\n",
    "column_names = app_imp.columns.tolist()\n",
    "\n",
    "missing_app_imp = count_missing_values(app_imp, column_names)\n",
    "\n",
    "missing_app_imp = {key: value for key, value in missing_app_imp.items() if value != 0}\n",
    "\n",
    "missing_app_imp = dict(sorted(missing_app_imp.items(), key=lambda item: item[1], reverse=True))\n",
    "\n",
    "missing_app_imp"
   ]
  },
  {
   "cell_type": "code",
   "execution_count": 214,
   "id": "45153162",
   "metadata": {},
   "outputs": [
    {
     "name": "stdout",
     "output_type": "stream",
     "text": [
      "Ratio of total current balance to high credit/credit limit for all bankcard accounts.\n",
      "count    1.283398e+06\n",
      "mean     5.993957e+01\n",
      "std      2.829322e+01\n",
      "min      0.000000e+00\n",
      "25%      3.830000e+01\n",
      "50%      6.320000e+01\n",
      "75%      8.480000e+01\n",
      "max      3.396000e+02\n",
      "Name: bc_util, dtype: float64\n",
      "Percentage of all bankcard accounts > 75% of limit.\n",
      "count    1.283755e+06\n",
      "mean     4.515598e+01\n",
      "std      3.600723e+01\n",
      "min      0.000000e+00\n",
      "25%      1.000000e+01\n",
      "50%      4.290000e+01\n",
      "75%      7.500000e+01\n",
      "max      1.000000e+02\n",
      "Name: percent_bc_gt_75, dtype: float64\n",
      "Total open to buy on revolving bankcards.\n",
      "count    1.284167e+06\n",
      "mean     1.018623e+04\n",
      "std      1.535084e+04\n",
      "min      0.000000e+00\n",
      "25%      1.464000e+03\n",
      "50%      4.700000e+03\n",
      "75%      1.238300e+04\n",
      "max      5.599120e+05\n",
      "Name: bc_open_to_buy, dtype: float64\n",
      "Months since most recent bankcard account opened.\n",
      "count    1.285089e+06\n",
      "mean     2.381774e+01\n",
      "std      3.073311e+01\n",
      "min      0.000000e+00\n",
      "25%      6.000000e+00\n",
      "50%      1.300000e+01\n",
      "75%      2.800000e+01\n",
      "max      6.390000e+02\n",
      "Name: mths_since_recent_bc, dtype: float64\n",
      "Number of satisfactory bankcard accounts\n",
      "count    1.289469e+06\n",
      "mean     4.734225e+00\n",
      "std      2.952396e+00\n",
      "min      0.000000e+00\n",
      "25%      3.000000e+00\n",
      "50%      4.000000e+00\n",
      "75%      6.000000e+00\n",
      "max      6.300000e+01\n",
      "Name: num_bc_sats, dtype: float64\n",
      "Number of satisfactory accounts\n",
      "count    1.289469e+06\n",
      "mean     1.163907e+01\n",
      "std      5.482487e+00\n",
      "min      0.000000e+00\n",
      "25%      8.000000e+00\n",
      "50%      1.100000e+01\n",
      "75%      1.400000e+01\n",
      "max      9.000000e+01\n",
      "Name: num_sats, dtype: float64\n",
      "Number of mortgage accounts.\n",
      "count    1.298029e+06\n",
      "mean     1.670783e+00\n",
      "std      2.000444e+00\n",
      "min      0.000000e+00\n",
      "25%      0.000000e+00\n",
      "50%      1.000000e+00\n",
      "75%      3.000000e+00\n",
      "max      5.100000e+01\n",
      "Name: mort_acc, dtype: float64\n",
      "Total credit balance excluding mortgage\n",
      "count    1.298029e+06\n",
      "mean     4.966635e+04\n",
      "std      4.774363e+04\n",
      "min      0.000000e+00\n",
      "25%      2.088600e+04\n",
      "50%      3.729600e+04\n",
      "75%      6.254800e+04\n",
      "max      3.408095e+06\n",
      "Name: total_bal_ex_mort, dtype: float64\n",
      "Total bankcard high credit/credit limit\n",
      "count    1.298029e+06\n",
      "mean     2.163400e+04\n",
      "std      2.155478e+04\n",
      "min      0.000000e+00\n",
      "25%      7.800000e+03\n",
      "50%      1.510000e+04\n",
      "75%      2.810000e+04\n",
      "max      1.105500e+06\n",
      "Name: total_bc_limit, dtype: float64\n",
      "Revolving line utilization rate, or the amount of credit the borrower is using relative to all available revolving credit.\n",
      "count    1.344453e+06\n",
      "mean     5.181002e+01\n",
      "std      2.452107e+01\n",
      "min      0.000000e+00\n",
      "25%      3.340000e+01\n",
      "50%      5.220000e+01\n",
      "75%      7.070000e+01\n",
      "max      8.923000e+02\n",
      "Name: revol_util, dtype: float64\n",
      "Number of public record bankruptcies\n",
      "count    1.344613e+06\n",
      "mean     1.344439e-01\n",
      "std      3.779285e-01\n",
      "min      0.000000e+00\n",
      "25%      0.000000e+00\n",
      "50%      0.000000e+00\n",
      "75%      0.000000e+00\n",
      "max      1.200000e+01\n",
      "Name: pub_rec_bankruptcies, dtype: float64\n",
      "A ratio calculated using the borrower’s total monthly debt payments on the total debt obligations, excluding mortgage and the requested LC loan, divided by the borrower’s self-reported monthly income.\n",
      "count    1.344936e+06\n",
      "mean     1.828267e+01\n",
      "std      1.116045e+01\n",
      "min     -1.000000e+00\n",
      "25%      1.179000e+01\n",
      "50%      1.761000e+01\n",
      "75%      2.406000e+01\n",
      "max      9.990000e+02\n",
      "Name: dti, dtype: float64\n",
      "Number of collections in 12 months excluding medical collections\n",
      "count    1.345254e+06\n",
      "mean     1.713357e-02\n",
      "std      1.469153e-01\n",
      "min      0.000000e+00\n",
      "25%      0.000000e+00\n",
      "50%      0.000000e+00\n",
      "75%      0.000000e+00\n",
      "max      2.000000e+01\n",
      "Name: collections_12_mths_ex_med, dtype: float64\n",
      "Number of tax liens\n",
      "count    1.345271e+06\n",
      "mean     5.213002e-02\n",
      "std      3.979113e-01\n",
      "min      0.000000e+00\n",
      "25%      0.000000e+00\n",
      "50%      0.000000e+00\n",
      "75%      0.000000e+00\n",
      "max      8.500000e+01\n",
      "Name: tax_liens, dtype: float64\n",
      "The number of inquiries in past 6 months (excluding auto and mortgage inquiries)\n",
      "count    1.345309e+06\n",
      "mean     6.550807e-01\n",
      "std      9.377739e-01\n",
      "min      0.000000e+00\n",
      "25%      0.000000e+00\n",
      "50%      0.000000e+00\n",
      "75%      1.000000e+00\n",
      "max      8.000000e+00\n",
      "Name: inq_last_6mths, dtype: float64\n",
      "The first 3 numbers of the zip code provided by the borrower in the loan application.\n",
      "count     1345309\n",
      "unique        943\n",
      "top         945xx\n",
      "freq        15005\n",
      "Name: zip_code, dtype: object\n"
     ]
    }
   ],
   "source": [
    "missing_val = [key for key in missing_app_imp]\n",
    "\n",
    "for column in missing_val:\n",
    "    print(define(column))\n",
    "    print(app_imp[column].describe())"
   ]
  },
  {
   "cell_type": "code",
   "execution_count": 215,
   "id": "425f6e39",
   "metadata": {},
   "outputs": [],
   "source": [
    "# Imputation ideas based on my intuition and data definition\n",
    "\n",
    "zero_impute_list = ['bc_util','percent_bc_gt_75', 'bc_open_to_buy', 'mort_acc','pub_rec_bankruptcies','collections_12_mths_ex_med',\\\n",
    "              'tax_liens','inq_last_6mths']\n",
    "mths_999_impute = ['mths_since_recent_bc' ]\n",
    "mean_impute = ['num_bc_sats', 'num_sats','total_bal_ex_mort','total_bc_limit', 'revol_util', 'dti',]\n",
    "mode_impute = ['zip_code']\n"
   ]
  },
  {
   "cell_type": "code",
   "execution_count": 216,
   "id": "8bf0414e",
   "metadata": {},
   "outputs": [
    {
     "name": "stdout",
     "output_type": "stream",
     "text": [
      "Missing in bc_util: 0\n",
      "Missing in percent_bc_gt_75: 0\n",
      "Missing in bc_open_to_buy: 0\n",
      "Missing in mort_acc: 0\n",
      "Missing in pub_rec_bankruptcies: 0\n",
      "Missing in collections_12_mths_ex_med: 0\n",
      "Missing in tax_liens: 0\n",
      "Missing in inq_last_6mths: 0\n"
     ]
    }
   ],
   "source": [
    "# zero impute\n",
    "\n",
    "for column in zero_impute_list:\n",
    "    zero_impute(column)\n",
    "    print('Missing in '+ column + ': ' + str(app_imp[column].isna().sum()))"
   ]
  },
  {
   "cell_type": "code",
   "execution_count": 217,
   "id": "c5707b17",
   "metadata": {},
   "outputs": [
    {
     "data": {
      "text/plain": [
       "0"
      ]
     },
     "execution_count": 217,
     "metadata": {},
     "output_type": "execute_result"
    }
   ],
   "source": [
    "# 999 mths impute\n",
    "\n",
    "zero_impute('mths_since_recent_bc')\n",
    "app_imp['mths_since_recent_bc'].isna().sum()"
   ]
  },
  {
   "cell_type": "code",
   "execution_count": 218,
   "id": "e4397537",
   "metadata": {},
   "outputs": [
    {
     "name": "stdout",
     "output_type": "stream",
     "text": [
      "Missing in num_bc_sats: 0\n",
      "Missing in num_sats: 0\n",
      "Missing in total_bal_ex_mort: 0\n",
      "Missing in total_bc_limit: 0\n",
      "Missing in revol_util: 0\n",
      "Missing in dti: 0\n"
     ]
    }
   ],
   "source": [
    "# mean impute\n",
    "\n",
    "def mean_imp(column):\n",
    "    app_imp[column].fillna(app_imp[column].mean(), inplace=True)\n",
    "    \n",
    "for column in mean_impute:\n",
    "    mean_imp(column)\n",
    "    print('Missing in '+ column + ': ' + str(app_imp[column].isna().sum()))"
   ]
  },
  {
   "cell_type": "code",
   "execution_count": 219,
   "id": "6c2f80d7",
   "metadata": {},
   "outputs": [
    {
     "data": {
      "text/plain": [
       "0    945xx\n",
       "Name: zip_code, dtype: object"
      ]
     },
     "execution_count": 219,
     "metadata": {},
     "output_type": "execute_result"
    }
   ],
   "source": [
    "# mode impute\n",
    "\n",
    "app_imp['zip_code'].mode()\n",
    "\n",
    "#app_imp['zip_code'].fillna(app_imp['zip_code'].mode(), inplace=True)\n",
    "\n",
    "#app_imp['zip_code'].isna().sum()\n",
    "\n"
   ]
  },
  {
   "cell_type": "code",
   "execution_count": 220,
   "id": "3e62306a",
   "metadata": {},
   "outputs": [
    {
     "data": {
      "text/html": [
       "<div>\n",
       "<style scoped>\n",
       "    .dataframe tbody tr th:only-of-type {\n",
       "        vertical-align: middle;\n",
       "    }\n",
       "\n",
       "    .dataframe tbody tr th {\n",
       "        vertical-align: top;\n",
       "    }\n",
       "\n",
       "    .dataframe thead th {\n",
       "        text-align: right;\n",
       "    }\n",
       "</style>\n",
       "<table border=\"1\" class=\"dataframe\">\n",
       "  <thead>\n",
       "    <tr style=\"text-align: right;\">\n",
       "      <th></th>\n",
       "      <th>addr_state</th>\n",
       "      <th>annual_inc</th>\n",
       "      <th>annual_inc_joint</th>\n",
       "      <th>application_type</th>\n",
       "      <th>delinq_2yrs</th>\n",
       "      <th>delinq_amnt</th>\n",
       "      <th>dti</th>\n",
       "      <th>dti_joint</th>\n",
       "      <th>earliest_cr_line</th>\n",
       "      <th>emp_title</th>\n",
       "      <th>...</th>\n",
       "      <th>tot_hi_cred_lim</th>\n",
       "      <th>total_acc</th>\n",
       "      <th>total_bal_ex_mort</th>\n",
       "      <th>total_bal_il</th>\n",
       "      <th>total_bc_limit</th>\n",
       "      <th>total_il_high_credit_limit</th>\n",
       "      <th>total_rev_hi_lim</th>\n",
       "      <th>verification_status</th>\n",
       "      <th>verification_status_joint</th>\n",
       "      <th>zip_code</th>\n",
       "    </tr>\n",
       "  </thead>\n",
       "  <tbody>\n",
       "    <tr>\n",
       "      <th>1736050</th>\n",
       "      <td>AL</td>\n",
       "      <td>40000.0</td>\n",
       "      <td>0.0</td>\n",
       "      <td>Individual</td>\n",
       "      <td>0.0</td>\n",
       "      <td>0.0</td>\n",
       "      <td>22.86</td>\n",
       "      <td>0.0</td>\n",
       "      <td>Jul-2005</td>\n",
       "      <td>Electrician</td>\n",
       "      <td>...</td>\n",
       "      <td>99094.0</td>\n",
       "      <td>18.0</td>\n",
       "      <td>17167.0</td>\n",
       "      <td>10038.0</td>\n",
       "      <td>10400.0</td>\n",
       "      <td>15231.0</td>\n",
       "      <td>10400.0</td>\n",
       "      <td>Verified</td>\n",
       "      <td>Not Joint App</td>\n",
       "      <td>NaN</td>\n",
       "    </tr>\n",
       "  </tbody>\n",
       "</table>\n",
       "<p>1 rows × 75 columns</p>\n",
       "</div>"
      ],
      "text/plain": [
       "        addr_state  annual_inc  annual_inc_joint application_type  \\\n",
       "1736050         AL     40000.0               0.0       Individual   \n",
       "\n",
       "         delinq_2yrs  delinq_amnt    dti  dti_joint earliest_cr_line  \\\n",
       "1736050          0.0          0.0  22.86        0.0         Jul-2005   \n",
       "\n",
       "           emp_title  ...  tot_hi_cred_lim  total_acc total_bal_ex_mort  \\\n",
       "1736050  Electrician  ...          99094.0       18.0           17167.0   \n",
       "\n",
       "        total_bal_il  total_bc_limit  total_il_high_credit_limit  \\\n",
       "1736050      10038.0         10400.0                     15231.0   \n",
       "\n",
       "         total_rev_hi_lim  verification_status  verification_status_joint  \\\n",
       "1736050           10400.0             Verified              Not Joint App   \n",
       "\n",
       "         zip_code  \n",
       "1736050       NaN  \n",
       "\n",
       "[1 rows x 75 columns]"
      ]
     },
     "execution_count": 220,
     "metadata": {},
     "output_type": "execute_result"
    }
   ],
   "source": [
    "# look up the record with missing zip code\n",
    "\n",
    "app_imp[app_imp['zip_code'].isna()]"
   ]
  },
  {
   "cell_type": "code",
   "execution_count": 221,
   "id": "28373685",
   "metadata": {},
   "outputs": [
    {
     "data": {
      "text/plain": [
       "0    350xx\n",
       "Name: zip_code, dtype: object"
      ]
     },
     "execution_count": 221,
     "metadata": {},
     "output_type": "execute_result"
    }
   ],
   "source": [
    "# find the most common AL zip in the data set\n",
    "\n",
    "AL_zip = app_imp.loc[app_imp['addr_state'] == 'AL', 'zip_code']\n",
    "\n",
    "AL_zip.mode()"
   ]
  },
  {
   "cell_type": "code",
   "execution_count": 222,
   "id": "30c7f04b",
   "metadata": {},
   "outputs": [
    {
     "name": "stdout",
     "output_type": "stream",
     "text": [
      "0\n"
     ]
    }
   ],
   "source": [
    "# replace nan zip with '350xx'\n",
    "\n",
    "app_imp['zip_code'].fillna('350xx', inplace=True)\n",
    "\n",
    "print(app_imp['zip_code'].isna().sum())"
   ]
  },
  {
   "cell_type": "code",
   "execution_count": 223,
   "id": "149a11ac",
   "metadata": {},
   "outputs": [
    {
     "name": "stdout",
     "output_type": "stream",
     "text": [
      "<class 'pandas.core.frame.DataFrame'>\n",
      "Int64Index: 1345310 entries, 0 to 2260697\n",
      "Data columns (total 75 columns):\n",
      " #   Column                          Non-Null Count    Dtype  \n",
      "---  ------                          --------------    -----  \n",
      " 0   addr_state                      1345310 non-null  object \n",
      " 1   annual_inc                      1345310 non-null  float64\n",
      " 2   annual_inc_joint                1345310 non-null  float64\n",
      " 3   application_type                1345310 non-null  object \n",
      " 4   delinq_2yrs                     1345310 non-null  float64\n",
      " 5   delinq_amnt                     1345310 non-null  float64\n",
      " 6   dti                             1345310 non-null  float64\n",
      " 7   dti_joint                       1345310 non-null  float64\n",
      " 8   earliest_cr_line                1345310 non-null  object \n",
      " 9   emp_title                       1345310 non-null  object \n",
      " 10  fico_range_high                 1345310 non-null  float64\n",
      " 11  fico_range_low                  1345310 non-null  float64\n",
      " 12  home_ownership                  1345310 non-null  object \n",
      " 13  id                              1345310 non-null  object \n",
      " 14  inq_fi                          1345310 non-null  float64\n",
      " 15  inq_last_12m                    1345310 non-null  float64\n",
      " 16  inq_last_6mths                  1345310 non-null  float64\n",
      " 17  loan_amnt                       1345310 non-null  float64\n",
      " 18  mo_sin_old_il_acct              1345310 non-null  float64\n",
      " 19  max_bal_bc                      1345310 non-null  float64\n",
      " 20  avg_cur_bal                     1345310 non-null  float64\n",
      " 21  bc_open_to_buy                  1345310 non-null  float64\n",
      " 22  bc_util                         1345310 non-null  float64\n",
      " 23  collections_12_mths_ex_med      1345310 non-null  float64\n",
      " 24  mo_sin_old_rev_tl_op            1345310 non-null  float64\n",
      " 25  mo_sin_rcnt_rev_tl_op           1345310 non-null  float64\n",
      " 26  mo_sin_rcnt_tl                  1345310 non-null  float64\n",
      " 27  mort_acc                        1345310 non-null  float64\n",
      " 28  mths_since_last_delinq          1345310 non-null  float64\n",
      " 29  mths_since_last_major_derog     1345310 non-null  float64\n",
      " 30  mths_since_last_record          1345310 non-null  float64\n",
      " 31  mths_since_rcnt_il              1345310 non-null  float64\n",
      " 32  mths_since_recent_bc            1345310 non-null  float64\n",
      " 33  mths_since_recent_bc_dlq        1345310 non-null  float64\n",
      " 34  mths_since_recent_inq           1345310 non-null  float64\n",
      " 35  mths_since_recent_revol_delinq  1345310 non-null  float64\n",
      " 36  num_accts_ever_120_pd           1345310 non-null  float64\n",
      " 37  num_actv_bc_tl                  1345310 non-null  float64\n",
      " 38  num_actv_rev_tl                 1345310 non-null  float64\n",
      " 39  num_bc_sats                     1345310 non-null  float64\n",
      " 40  num_bc_tl                       1345310 non-null  float64\n",
      " 41  num_il_tl                       1345310 non-null  float64\n",
      " 42  num_op_rev_tl                   1345310 non-null  float64\n",
      " 43  num_rev_accts                   1345310 non-null  float64\n",
      " 44  num_rev_tl_bal_gt_0             1345310 non-null  float64\n",
      " 45  num_sats                        1345310 non-null  float64\n",
      " 46  num_tl_120dpd_2m                1345310 non-null  float64\n",
      " 47  num_tl_30dpd                    1345310 non-null  float64\n",
      " 48  num_tl_90g_dpd_24m              1345310 non-null  float64\n",
      " 49  num_tl_op_past_12m              1345310 non-null  float64\n",
      " 50  open_acc                        1345310 non-null  float64\n",
      " 51  open_acc_6m                     1345310 non-null  float64\n",
      " 52  open_il_12m                     1345310 non-null  float64\n",
      " 53  open_il_24m                     1345310 non-null  float64\n",
      " 54  open_rv_12m                     1345310 non-null  float64\n",
      " 55  open_rv_24m                     1345310 non-null  float64\n",
      " 56  percent_bc_gt_75                1345310 non-null  float64\n",
      " 57  pub_rec                         1345310 non-null  float64\n",
      " 58  pub_rec_bankruptcies            1345310 non-null  float64\n",
      " 59  purpose                         1345310 non-null  object \n",
      " 60  revol_bal                       1345310 non-null  float64\n",
      " 61  revol_util                      1345310 non-null  float64\n",
      " 62  tax_liens                       1345310 non-null  float64\n",
      " 63  tot_coll_amt                    1345310 non-null  float64\n",
      " 64  tot_cur_bal                     1345310 non-null  float64\n",
      " 65  tot_hi_cred_lim                 1345310 non-null  float64\n",
      " 66  total_acc                       1345310 non-null  float64\n",
      " 67  total_bal_ex_mort               1345310 non-null  float64\n",
      " 68  total_bal_il                    1345310 non-null  float64\n",
      " 69  total_bc_limit                  1345310 non-null  float64\n",
      " 70  total_il_high_credit_limit      1345310 non-null  float64\n",
      " 71  total_rev_hi_lim                1345310 non-null  float64\n",
      " 72  verification_status             1345310 non-null  object \n",
      " 73  verification_status_joint       1345310 non-null  object \n",
      " 74  zip_code                        1345310 non-null  object \n",
      "dtypes: float64(65), object(10)\n",
      "memory usage: 780.1+ MB\n"
     ]
    }
   ],
   "source": [
    "# Check for missing values in app_imp\n",
    "\n",
    "app_imp.info(verbose=True, show_counts=True)"
   ]
  },
  {
   "cell_type": "code",
   "execution_count": null,
   "id": "d84ac537",
   "metadata": {},
   "outputs": [],
   "source": [
    "# No more missing values!"
   ]
  }
 ],
 "metadata": {
  "kernelspec": {
   "display_name": "Python 3 (ipykernel)",
   "language": "python",
   "name": "python3"
  },
  "language_info": {
   "codemirror_mode": {
    "name": "ipython",
    "version": 3
   },
   "file_extension": ".py",
   "mimetype": "text/x-python",
   "name": "python",
   "nbconvert_exporter": "python",
   "pygments_lexer": "ipython3",
   "version": "3.10.9"
  }
 },
 "nbformat": 4,
 "nbformat_minor": 5
}
